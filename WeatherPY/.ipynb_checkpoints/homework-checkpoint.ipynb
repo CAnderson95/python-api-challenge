{
 "cells": [
  {
   "cell_type": "markdown",
   "metadata": {},
   "source": [
    "# WeatherPy\n",
    "----\n",
    "\n",
    "#### Note\n",
    "* Instructions have been included for each segment. You do not have to follow them exactly, but they are included to help you think through the steps."
   ]
  },
  {
   "cell_type": "code",
   "execution_count": 38,
   "metadata": {
    "scrolled": true
   },
   "outputs": [],
   "source": [
    "# Dependencies and Setup\n",
    "import matplotlib.pyplot as plt\n",
    "import pandas as pd\n",
    "import numpy as np\n",
    "import requests\n",
    "import time\n",
    "from scipy.stats import linregress\n",
    "from scipy.constants import convert_temperature\n",
    "from numpy import cov\n",
    "from scipy.stats.stats import pearsonr\n",
    "from scipy.stats.stats import spearmanr\n",
    "\n",
    "# Import API key\n",
    "from api_keys import weather_api_key\n",
    "\n",
    "# Incorporated citipy to determine city based on latitude and longitude\n",
    "from citipy import citipy\n",
    "\n",
    "# Output File (CSV)\n",
    "output_data_file = \"Output_Data/cities.csv\"\n",
    "\n",
    "# Range of latitudes and longitudes\n",
    "lat_range = (-90, 90)\n",
    "lng_range = (-180, 180)"
   ]
  },
  {
   "cell_type": "markdown",
   "metadata": {},
   "source": [
    "## Generate Cities List"
   ]
  },
  {
   "cell_type": "code",
   "execution_count": 2,
   "metadata": {},
   "outputs": [
    {
     "data": {
      "text/plain": [
       "594"
      ]
     },
     "execution_count": 2,
     "metadata": {},
     "output_type": "execute_result"
    }
   ],
   "source": [
    "# List for holding lat_lngs and cities\n",
    "lat_lngs = []\n",
    "cities = []\n",
    "\n",
    "# Create a set of random lat and lng combinations\n",
    "lats = np.random.uniform(lat_range[0], lat_range[1], size=1500)\n",
    "lngs = np.random.uniform(lng_range[0], lng_range[1], size=1500)\n",
    "lat_lngs = zip(lats, lngs)\n",
    "\n",
    "# Identify nearest city for each lat, lng combination\n",
    "for lat_lng in lat_lngs:\n",
    "    city = citipy.nearest_city(lat_lng[0], lat_lng[1]).city_name\n",
    "    \n",
    "    # If the city is unique, then add it to a our cities list\n",
    "    if city not in cities:\n",
    "        cities.append(city)\n",
    "\n",
    "# Print the city count to confirm sufficient count\n",
    "len(cities)"
   ]
  },
  {
   "cell_type": "markdown",
   "metadata": {},
   "source": [
    "### Perform API Calls\n",
    "* Perform a weather check on each city using a series of successive API calls.\n",
    "* Include a print log of each city as it'sbeing processed (with the city number and city name).\n"
   ]
  },
  {
   "cell_type": "code",
   "execution_count": 3,
   "metadata": {},
   "outputs": [
    {
     "data": {
      "text/plain": [
       "<Response [200]>"
      ]
     },
     "execution_count": 3,
     "metadata": {},
     "output_type": "execute_result"
    }
   ],
   "source": [
    "base_url = \"http://api.openweathermap.org/data/2.5/weather?\"\n",
    "query_url = base_url + 'appid=' + weather_api_key + '&q='\n",
    "response = requests.get(query_url + city)\n",
    "response"
   ]
  },
  {
   "cell_type": "code",
   "execution_count": 4,
   "metadata": {},
   "outputs": [
    {
     "name": "stdout",
     "output_type": "stream",
     "text": [
      "Starting Data Retrieval (at 1 call per 1.01 seconds)\n",
      "Processing Record 1 of 594 | dikson\n",
      "Processing Record 3 of 594 | presidencia roque saenz pena\n",
      "Processing Record 5 of 594 | ushuaia\n",
      "Processing Record 7 of 594 | attawapiskat\n",
      "'name'\n",
      "Processing Record 8 of 594 | thompson\n",
      "Processing Record 10 of 594 | bredasdorp\n",
      "Processing Record 12 of 594 | ponta do sol\n",
      "Processing Record 14 of 594 | neuquen\n",
      "Processing Record 16 of 594 | batagay-alyta\n",
      "Processing Record 18 of 594 | jamestown\n",
      "Processing Record 20 of 594 | funadhoo\n",
      "Processing Record 22 of 594 | rikitea\n",
      "Processing Record 24 of 594 | mahina\n",
      "Processing Record 26 of 594 | haines junction\n",
      "Processing Record 28 of 594 | pevek\n",
      "Processing Record 30 of 594 | busselton\n",
      "Processing Record 32 of 594 | sakhon nakhon\n",
      "Processing Record 34 of 594 | beyneu\n",
      "Processing Record 36 of 594 | constitucion\n",
      "Processing Record 38 of 594 | ribeira grande\n",
      "Processing Record 40 of 594 | aksu\n",
      "Processing Record 42 of 594 | mataura\n",
      "Processing Record 44 of 594 | karratha\n",
      "Processing Record 46 of 594 | sitka\n",
      "Processing Record 48 of 594 | pacific grove\n",
      "Processing Record 50 of 594 | mys shmidta\n",
      "'name'\n",
      "Processing Record 51 of 594 | lumeje\n",
      "Processing Record 53 of 594 | yellowknife\n",
      "Processing Record 55 of 594 | tasiilaq\n",
      "Processing Record 57 of 594 | amderma\n",
      "'name'\n",
      "Processing Record 58 of 594 | taolanaro\n",
      "'name'\n",
      "Processing Record 59 of 594 | geraldton\n",
      "Processing Record 61 of 594 | mar del plata\n",
      "Processing Record 63 of 594 | leningradskiy\n",
      "Processing Record 65 of 594 | bratsk\n",
      "Processing Record 67 of 594 | hobart\n",
      "Processing Record 69 of 594 | hermanus\n",
      "Processing Record 71 of 594 | fribourg\n",
      "Processing Record 73 of 594 | kavaje\n",
      "Processing Record 75 of 594 | naze\n",
      "Processing Record 77 of 594 | hithadhoo\n",
      "Processing Record 79 of 594 | tual\n",
      "Processing Record 81 of 594 | grand gaube\n",
      "Processing Record 83 of 594 | magistralnyy\n",
      "Processing Record 85 of 594 | coquimbo\n",
      "Processing Record 87 of 594 | karpathos\n",
      "Processing Record 89 of 594 | arraial do cabo\n",
      "Processing Record 91 of 594 | broome\n",
      "Processing Record 93 of 594 | cape town\n",
      "Processing Record 95 of 594 | fortuna\n",
      "Processing Record 97 of 594 | semey\n",
      "Processing Record 99 of 594 | dudinka\n",
      "Processing Record 101 of 594 | cherskiy\n",
      "Processing Record 103 of 594 | albany\n",
      "Processing Record 105 of 594 | castro\n",
      "Processing Record 107 of 594 | kiunga\n",
      "Processing Record 109 of 594 | provideniya\n",
      "Processing Record 111 of 594 | torbay\n",
      "Processing Record 113 of 594 | barentsburg\n",
      "'name'\n",
      "Processing Record 114 of 594 | bluff\n",
      "Processing Record 116 of 594 | longyearbyen\n",
      "Processing Record 118 of 594 | chuy\n",
      "Processing Record 120 of 594 | acapulco\n",
      "Processing Record 122 of 594 | mount gambier\n",
      "Processing Record 124 of 594 | iskateley\n",
      "Processing Record 126 of 594 | igbo ora\n",
      "Processing Record 128 of 594 | safakulevo\n",
      "Processing Record 130 of 594 | puerto ayora\n",
      "Processing Record 132 of 594 | kaitangata\n",
      "Processing Record 134 of 594 | kavieng\n",
      "Processing Record 136 of 594 | butaritari\n",
      "Processing Record 138 of 594 | victoria\n",
      "Processing Record 140 of 594 | mahebourg\n",
      "Processing Record 142 of 594 | puerto leguizamo\n",
      "Processing Record 144 of 594 | port hedland\n",
      "Processing Record 146 of 594 | saskylakh\n",
      "Processing Record 148 of 594 | georgiyevka\n",
      "Processing Record 150 of 594 | kapaa\n",
      "Processing Record 152 of 594 | lagoa\n",
      "Processing Record 154 of 594 | namwala\n",
      "Processing Record 156 of 594 | tumannyy\n",
      "'name'\n",
      "Processing Record 157 of 594 | georgetown\n",
      "Processing Record 159 of 594 | havre-saint-pierre\n",
      "Processing Record 161 of 594 | atuona\n",
      "Processing Record 163 of 594 | port alfred\n",
      "Processing Record 165 of 594 | cockburn harbour\n",
      "'name'\n",
      "Processing Record 166 of 594 | whitehorse\n",
      "Processing Record 168 of 594 | lata\n",
      "Processing Record 170 of 594 | marcona\n",
      "'name'\n",
      "Processing Record 171 of 594 | aksarka\n",
      "Processing Record 173 of 594 | codrington\n",
      "Processing Record 175 of 594 | bonavista\n",
      "Processing Record 177 of 594 | carndonagh\n",
      "Processing Record 179 of 594 | nizwa\n",
      "Processing Record 181 of 594 | vaini\n",
      "Processing Record 183 of 594 | selkirk\n",
      "Processing Record 185 of 594 | barrow\n",
      "Processing Record 187 of 594 | necochea\n",
      "Processing Record 189 of 594 | ankang\n",
      "Processing Record 191 of 594 | valjala\n",
      "'name'\n",
      "Processing Record 192 of 594 | buguda\n",
      "Processing Record 194 of 594 | donghai\n",
      "Processing Record 196 of 594 | alofi\n",
      "Processing Record 198 of 594 | olafsvik\n",
      "Processing Record 200 of 594 | bhawanigarh\n",
      "Processing Record 202 of 594 | namibe\n",
      "Processing Record 204 of 594 | buraydah\n",
      "Processing Record 206 of 594 | zhuhai\n",
      "Processing Record 208 of 594 | punta arenas\n",
      "Processing Record 210 of 594 | vaitupu\n",
      "'name'\n",
      "Processing Record 211 of 594 | new norfolk\n",
      "Processing Record 213 of 594 | khatanga\n",
      "Processing Record 215 of 594 | rio grande\n",
      "Processing Record 217 of 594 | katsuura\n",
      "Processing Record 219 of 594 | lebu\n",
      "Processing Record 221 of 594 | nantucket\n",
      "Processing Record 223 of 594 | camana\n",
      "Processing Record 225 of 594 | maldonado\n",
      "Processing Record 227 of 594 | saleaula\n",
      "'name'\n",
      "Processing Record 228 of 594 | isangel\n",
      "Processing Record 230 of 594 | davila\n",
      "Processing Record 232 of 594 | kruisfontein\n",
      "Processing Record 234 of 594 | fairbanks\n",
      "Processing Record 236 of 594 | marau\n",
      "Processing Record 238 of 594 | illoqqortoormiut\n",
      "'name'\n",
      "Processing Record 239 of 594 | nikolskoye\n",
      "Processing Record 241 of 594 | hasaki\n",
      "Processing Record 243 of 594 | hilo\n",
      "Processing Record 245 of 594 | ilulissat\n",
      "Processing Record 247 of 594 | sakakah\n",
      "Processing Record 249 of 594 | quarai\n",
      "Processing Record 251 of 594 | bud\n",
      "Processing Record 253 of 594 | tuktoyaktuk\n",
      "Processing Record 255 of 594 | nanortalik\n",
      "Processing Record 257 of 594 | tougan\n",
      "Processing Record 259 of 594 | severo-kurilsk\n",
      "Processing Record 261 of 594 | codajas\n",
      "Processing Record 263 of 594 | north platte\n",
      "Processing Record 265 of 594 | clyde river\n",
      "Processing Record 267 of 594 | raudeberg\n",
      "Processing Record 269 of 594 | port hardy\n",
      "Processing Record 271 of 594 | pingxiang\n",
      "Processing Record 273 of 594 | merauke\n",
      "Processing Record 275 of 594 | tuggurt\n",
      "'name'\n",
      "Processing Record 276 of 594 | melenki\n",
      "Processing Record 278 of 594 | kodiak\n",
      "Processing Record 280 of 594 | andenes\n",
      "Processing Record 282 of 594 | patea\n",
      "Processing Record 284 of 594 | norman wells\n",
      "Processing Record 286 of 594 | port-gentil\n",
      "Processing Record 288 of 594 | praia\n",
      "Processing Record 290 of 594 | sioux lookout\n",
      "Processing Record 292 of 594 | college\n",
      "Processing Record 294 of 594 | biltine\n",
      "Processing Record 296 of 594 | trairi\n",
      "Processing Record 298 of 594 | guia de isora\n",
      "Processing Record 300 of 594 | saint george\n",
      "Processing Record 302 of 594 | caohai\n",
      "Processing Record 304 of 594 | sentyabrskiy\n",
      "'name'\n",
      "Processing Record 305 of 594 | nizhneyansk\n",
      "'name'\n",
      "Processing Record 306 of 594 | marsh harbour\n",
      "Processing Record 308 of 594 | port elizabeth\n",
      "Processing Record 310 of 594 | vigrestad\n",
      "Processing Record 312 of 594 | srednekolymsk\n",
      "Processing Record 314 of 594 | ostrovnoy\n",
      "Processing Record 316 of 594 | vardo\n",
      "Processing Record 318 of 594 | sambava\n",
      "Processing Record 320 of 594 | itarema\n",
      "Processing Record 322 of 594 | sechura\n",
      "Processing Record 324 of 594 | sapulpa\n",
      "Processing Record 326 of 594 | aklavik\n",
      "Processing Record 328 of 594 | lockport\n",
      "Processing Record 330 of 594 | pokhara\n",
      "Processing Record 332 of 594 | san patricio\n",
      "Processing Record 334 of 594 | la palma\n",
      "Processing Record 336 of 594 | hunza\n",
      "'name'\n",
      "Processing Record 337 of 594 | sumbawa\n",
      "'name'\n",
      "Processing Record 338 of 594 | westport\n",
      "Processing Record 340 of 594 | novobelokatay\n",
      "Processing Record 342 of 594 | viligili\n",
      "'name'\n",
      "Processing Record 343 of 594 | tautira\n",
      "Processing Record 345 of 594 | portland\n",
      "Processing Record 347 of 594 | alekseyevka\n",
      "Processing Record 349 of 594 | hamilton\n",
      "Processing Record 351 of 594 | viedma\n",
      "Processing Record 353 of 594 | prince rupert\n",
      "Processing Record 355 of 594 | mount isa\n",
      "Processing Record 357 of 594 | svetlogorsk\n",
      "Processing Record 359 of 594 | bukachacha\n",
      "Processing Record 361 of 594 | souillac\n",
      "Processing Record 363 of 594 | sao lourenco da mata\n",
      "Processing Record 365 of 594 | emerald\n",
      "Processing Record 367 of 594 | popondetta\n",
      "Processing Record 369 of 594 | saint-philippe\n",
      "Processing Record 371 of 594 | klaksvik\n",
      "Processing Record 373 of 594 | sinnamary\n",
      "Processing Record 375 of 594 | qaanaaq\n",
      "Processing Record 377 of 594 | albufeira\n"
     ]
    },
    {
     "name": "stdout",
     "output_type": "stream",
     "text": [
      "Processing Record 379 of 594 | buchanan\n",
      "Processing Record 381 of 594 | bethel\n",
      "Processing Record 383 of 594 | skovde\n",
      "'name'\n",
      "Processing Record 384 of 594 | narsaq\n",
      "Processing Record 386 of 594 | chernyshevskiy\n",
      "Processing Record 388 of 594 | wanning\n",
      "Processing Record 390 of 594 | bozdar\n",
      "Processing Record 392 of 594 | dingle\n",
      "Processing Record 394 of 594 | george\n",
      "Processing Record 396 of 594 | ciudad guayana\n",
      "Processing Record 398 of 594 | yulara\n",
      "Processing Record 400 of 594 | east london\n",
      "Processing Record 402 of 594 | hobyo\n",
      "Processing Record 404 of 594 | ambodifototra\n",
      "'name'\n",
      "Processing Record 405 of 594 | cap malheureux\n",
      "Processing Record 407 of 594 | wellington\n",
      "Processing Record 409 of 594 | carnarvon\n",
      "Processing Record 411 of 594 | comodoro rivadavia\n",
      "Processing Record 413 of 594 | cidreira\n",
      "Processing Record 415 of 594 | maputo\n",
      "Processing Record 417 of 594 | saint anthony\n",
      "Processing Record 419 of 594 | sao filipe\n",
      "Processing Record 421 of 594 | manzanillo\n",
      "Processing Record 423 of 594 | cartagena\n",
      "Processing Record 425 of 594 | hervey bay\n",
      "Processing Record 427 of 594 | saint-pierre\n",
      "Processing Record 429 of 594 | saint-augustin\n",
      "Processing Record 431 of 594 | macas\n",
      "Processing Record 433 of 594 | samoded\n",
      "Processing Record 435 of 594 | carquefou\n",
      "Processing Record 437 of 594 | kavaratti\n",
      "Processing Record 439 of 594 | nome\n",
      "Processing Record 441 of 594 | gat\n",
      "Processing Record 443 of 594 | ketchikan\n",
      "Processing Record 445 of 594 | chinsali\n",
      "Processing Record 447 of 594 | ayan\n",
      "Processing Record 449 of 594 | port augusta\n",
      "Processing Record 451 of 594 | puerto princesa\n",
      "Processing Record 453 of 594 | tuatapere\n",
      "Processing Record 455 of 594 | arlit\n",
      "Processing Record 457 of 594 | matadi\n",
      "Processing Record 459 of 594 | santiago\n",
      "Processing Record 461 of 594 | srandakan\n",
      "Processing Record 463 of 594 | faanui\n",
      "Processing Record 465 of 594 | bambous virieux\n",
      "Processing Record 467 of 594 | kaeo\n",
      "Processing Record 469 of 594 | khudumelapye\n",
      "Processing Record 471 of 594 | marshall\n",
      "Processing Record 473 of 594 | broken hill\n",
      "Processing Record 475 of 594 | fort nelson\n",
      "Processing Record 477 of 594 | cayenne\n",
      "Processing Record 479 of 594 | warrington\n",
      "Processing Record 481 of 594 | yerbogachen\n",
      "Processing Record 483 of 594 | san vicente\n",
      "Processing Record 485 of 594 | amahai\n",
      "Processing Record 487 of 594 | areosa\n",
      "Processing Record 489 of 594 | changde\n",
      "Processing Record 491 of 594 | anadyr\n",
      "Processing Record 493 of 594 | ye\n",
      "'name'\n",
      "Processing Record 494 of 594 | lalibela\n",
      "Processing Record 496 of 594 | jodhpur\n",
      "Processing Record 498 of 594 | boca do acre\n",
      "Processing Record 500 of 594 | bathsheba\n",
      "Processing Record 502 of 594 | rorvik\n",
      "Processing Record 504 of 594 | chingirlau\n",
      "Processing Record 506 of 594 | topeka\n",
      "Processing Record 508 of 594 | falun\n",
      "Processing Record 510 of 594 | tukrah\n",
      "Processing Record 512 of 594 | chekhov\n",
      "Processing Record 514 of 594 | richards bay\n",
      "Processing Record 516 of 594 | upernavik\n",
      "Processing Record 518 of 594 | hovd\n",
      "Processing Record 520 of 594 | avarua\n",
      "Processing Record 522 of 594 | cabo san lucas\n",
      "Processing Record 524 of 594 | iqaluit\n",
      "Processing Record 526 of 594 | sciacca\n",
      "Processing Record 528 of 594 | tynda\n",
      "Processing Record 530 of 594 | matara\n",
      "Processing Record 532 of 594 | coahuayana\n",
      "Processing Record 534 of 594 | gorno-altaysk\n",
      "Processing Record 536 of 594 | abbeville\n",
      "Processing Record 538 of 594 | xiongshi\n",
      "'name'\n",
      "Processing Record 539 of 594 | corpus christi\n",
      "Processing Record 541 of 594 | maribo\n",
      "Processing Record 543 of 594 | mount pleasant\n",
      "Processing Record 545 of 594 | asau\n",
      "Processing Record 547 of 594 | beringovskiy\n",
      "Processing Record 549 of 594 | apatou\n",
      "Processing Record 551 of 594 | moose factory\n",
      "Processing Record 553 of 594 | belushya guba\n",
      "'name'\n",
      "Processing Record 554 of 594 | lompoc\n",
      "Processing Record 556 of 594 | polovinnoye\n",
      "Processing Record 558 of 594 | mrirt\n",
      "'name'\n",
      "Processing Record 559 of 594 | hoquiam\n",
      "Processing Record 561 of 594 | tuy hoa\n",
      "Processing Record 563 of 594 | tonantins\n",
      "Processing Record 565 of 594 | same\n",
      "Processing Record 567 of 594 | avera\n",
      "Processing Record 569 of 594 | mugla\n",
      "Processing Record 571 of 594 | tchibanga\n",
      "Processing Record 573 of 594 | temaraia\n",
      "'name'\n",
      "Processing Record 574 of 594 | hirara\n",
      "Processing Record 576 of 594 | mohan\n",
      "Processing Record 578 of 594 | maraa\n",
      "Processing Record 580 of 594 | berlevag\n",
      "Processing Record 582 of 594 | redmond\n",
      "Processing Record 584 of 594 | meulaboh\n",
      "Processing Record 586 of 594 | kovur\n",
      "Processing Record 588 of 594 | bandarbeyla\n",
      "Processing Record 590 of 594 | la rioja\n",
      "Processing Record 592 of 594 | vestmannaeyjar\n",
      "Processing Record 594 of 594 | cabedelo\n",
      "Processing Record 596 of 594 | sabha\n",
      "Processing Record 598 of 594 | te anau\n",
      "Processing Record 600 of 594 | muroto\n",
      "Processing Record 602 of 594 | manggar\n",
      "Processing Record 604 of 594 | minab\n",
      "Processing Record 606 of 594 | nkhata bay\n",
      "Processing Record 608 of 594 | chokurdakh\n",
      "Processing Record 610 of 594 | lima\n",
      "Processing Record 612 of 594 | newport\n",
      "Processing Record 614 of 594 | destin\n",
      "Processing Record 616 of 594 | lloydminster\n",
      "Processing Record 618 of 594 | ransang\n",
      "Processing Record 620 of 594 | langsa\n",
      "Processing Record 622 of 594 | wagrowiec\n",
      "Processing Record 624 of 594 | ixtapa\n",
      "Processing Record 626 of 594 | lokosovo\n",
      "Processing Record 628 of 594 | ancud\n",
      "Processing Record 630 of 594 | ambilobe\n",
      "Processing Record 632 of 594 | bereda\n",
      "Processing Record 634 of 594 | marawi\n",
      "Processing Record 636 of 594 | aykhal\n",
      "Processing Record 638 of 594 | tumaco\n",
      "Processing Record 640 of 594 | moyo\n",
      "Processing Record 642 of 594 | kaka\n",
      "Processing Record 644 of 594 | walvis bay\n",
      "Processing Record 646 of 594 | mpika\n",
      "Processing Record 648 of 594 | iquique\n",
      "Processing Record 650 of 594 | zhigansk\n",
      "Processing Record 652 of 594 | hofn\n",
      "Processing Record 654 of 594 | sadon\n",
      "Processing Record 656 of 594 | djambala\n",
      "Processing Record 658 of 594 | chimore\n",
      "Processing Record 660 of 594 | demerval lobao\n",
      "Processing Record 662 of 594 | taybad\n",
      "Processing Record 664 of 594 | cockburn town\n",
      "Processing Record 666 of 594 | samusu\n",
      "'name'\n",
      "Processing Record 667 of 594 | turayf\n",
      "Processing Record 669 of 594 | paamiut\n",
      "Processing Record 671 of 594 | oliveira dos brejinhos\n",
      "Processing Record 673 of 594 | bethanien\n",
      "Processing Record 675 of 594 | okhotsk\n",
      "Processing Record 677 of 594 | bikaner\n",
      "Processing Record 679 of 594 | zhanaozen\n",
      "Processing Record 681 of 594 | mmabatho\n",
      "Processing Record 683 of 594 | little current\n",
      "Processing Record 685 of 594 | tiksi\n",
      "Processing Record 687 of 594 | bumba\n",
      "Processing Record 689 of 594 | tessalit\n",
      "Processing Record 691 of 594 | san juan\n",
      "Processing Record 693 of 594 | rozivka\n",
      "Processing Record 695 of 594 | kenai\n",
      "Processing Record 697 of 594 | mikhaylovka\n",
      "Processing Record 699 of 594 | truth or consequences\n",
      "Processing Record 701 of 594 | kahului\n",
      "Processing Record 703 of 594 | lusambo\n",
      "Processing Record 705 of 594 | diffa\n",
      "Processing Record 707 of 594 | boone\n",
      "Processing Record 709 of 594 | sungaipenuh\n",
      "Processing Record 711 of 594 | bengkulu\n",
      "Processing Record 713 of 594 | simoes\n",
      "Processing Record 715 of 594 | matay\n",
      "Processing Record 717 of 594 | dhidhdhoo\n",
      "Processing Record 719 of 594 | george town\n",
      "Processing Record 721 of 594 | hutchinson\n",
      "Processing Record 723 of 594 | stornoway\n",
      "Processing Record 725 of 594 | pemberton\n",
      "Processing Record 727 of 594 | saldanha\n",
      "Processing Record 729 of 594 | thabazimbi\n",
      "Processing Record 731 of 594 | ternate\n",
      "Processing Record 733 of 594 | belyye berega\n",
      "Processing Record 735 of 594 | luganville\n",
      "Processing Record 737 of 594 | los llanos de aridane\n",
      "Processing Record 739 of 594 | tyukhtet\n",
      "Processing Record 741 of 594 | bayir\n",
      "Processing Record 743 of 594 | wajir\n",
      "Processing Record 745 of 594 | roebourne\n",
      "Processing Record 747 of 594 | safonovo\n",
      "Processing Record 749 of 594 | vanimo\n",
      "Processing Record 751 of 594 | hove\n",
      "Processing Record 753 of 594 | nguiu\n",
      "'name'\n",
      "Processing Record 754 of 594 | paita\n",
      "Processing Record 756 of 594 | guantanamo\n",
      "Processing Record 758 of 594 | kalabo\n",
      "Processing Record 760 of 594 | kampong thum\n",
      "Processing Record 762 of 594 | alekseyevsk\n",
      "Processing Record 764 of 594 | senanga\n",
      "Processing Record 766 of 594 | bossembele\n",
      "'name'\n",
      "Processing Record 767 of 594 | havoysund\n",
      "Processing Record 769 of 594 | rocha\n",
      "Processing Record 771 of 594 | yenagoa\n",
      "Processing Record 773 of 594 | port blair\n"
     ]
    },
    {
     "name": "stdout",
     "output_type": "stream",
     "text": [
      "Processing Record 775 of 594 | singaraja\n",
      "Processing Record 777 of 594 | port-cartier\n",
      "Processing Record 779 of 594 | sobolevo\n",
      "Processing Record 781 of 594 | sorland\n",
      "Processing Record 783 of 594 | puerto madero\n",
      "Processing Record 785 of 594 | alexandria\n",
      "Processing Record 787 of 594 | manaure\n",
      "Processing Record 789 of 594 | iringa\n",
      "Processing Record 791 of 594 | mendoza\n",
      "Processing Record 793 of 594 | kungurtug\n",
      "Processing Record 795 of 594 | airai\n",
      "Processing Record 797 of 594 | visby\n",
      "Processing Record 799 of 594 | san quintin\n",
      "Processing Record 801 of 594 | shizunai\n",
      "Processing Record 803 of 594 | salta\n",
      "Processing Record 805 of 594 | arona\n",
      "Processing Record 807 of 594 | roma\n",
      "Processing Record 809 of 594 | colomiers\n",
      "Processing Record 811 of 594 | kalamb\n",
      "Processing Record 813 of 594 | urucara\n",
      "Processing Record 815 of 594 | amapa\n",
      "Processing Record 817 of 594 | nanakuli\n",
      "Processing Record 819 of 594 | lasa\n",
      "Processing Record 821 of 594 | zhezkazgan\n",
      "Processing Record 823 of 594 | blagoyevo\n",
      "Processing Record 825 of 594 | yarkovo\n",
      "Processing Record 827 of 594 | rubtsovsk\n",
      "Processing Record 829 of 594 | izumo\n",
      "Processing Record 831 of 594 | adrar\n",
      "Processing Record 833 of 594 | palabuhanratu\n",
      "'name'\n",
      "Processing Record 834 of 594 | caravelas\n",
      "Processing Record 836 of 594 | rio gallegos\n",
      "Processing Record 838 of 594 | chara\n",
      "Processing Record 840 of 594 | noumea\n",
      "Processing Record 842 of 594 | mabaruma\n",
      "Processing Record 844 of 594 | krutinka\n",
      "Processing Record 846 of 594 | shimoda\n",
      "Processing Record 848 of 594 | pahrump\n",
      "Processing Record 850 of 594 | lincoln\n",
      "Processing Record 852 of 594 | xam nua\n",
      "Processing Record 854 of 594 | altamont\n",
      "Processing Record 856 of 594 | horsham\n",
      "Processing Record 858 of 594 | huarmey\n",
      "Processing Record 860 of 594 | esperance\n",
      "Processing Record 862 of 594 | mollendo\n",
      "Processing Record 864 of 594 | udachnyy\n",
      "Processing Record 866 of 594 | komsomolskiy\n",
      "Processing Record 868 of 594 | hay river\n",
      "Processing Record 870 of 594 | tsihombe\n",
      "'name'\n",
      "Processing Record 871 of 594 | pangnirtung\n",
      "Processing Record 873 of 594 | tignere\n",
      "Processing Record 875 of 594 | bonthe\n",
      "Processing Record 877 of 594 | aporawan\n",
      "'name'\n",
      "Processing Record 878 of 594 | thai binh\n",
      "Processing Record 880 of 594 | kamenka\n",
      "Processing Record 882 of 594 | nishihara\n",
      "Processing Record 884 of 594 | rapid valley\n",
      "Processing Record 886 of 594 | vostok\n",
      "Processing Record 888 of 594 | beibei\n",
      "Processing Record 890 of 594 | sao joao da barra\n",
      "Processing Record 892 of 594 | chulman\n",
      "Processing Record 894 of 594 | port lincoln\n",
      "Processing Record 896 of 594 | nehe\n",
      "Processing Record 898 of 594 | mecca\n",
      "Processing Record 900 of 594 | juegang\n",
      "Processing Record 902 of 594 | singkang\n",
      "Processing Record 904 of 594 | ruteng\n",
      "Processing Record 906 of 594 | kuche\n",
      "'name'\n",
      "Processing Record 907 of 594 | ijaki\n",
      "'name'\n",
      "Processing Record 908 of 594 | iracoubo\n",
      "Processing Record 910 of 594 | piney green\n",
      "Processing Record 912 of 594 | samarai\n",
      "Processing Record 914 of 594 | gimbi\n",
      "Processing Record 916 of 594 | domat\n",
      "Processing Record 918 of 594 | grand river south east\n",
      "'name'\n",
      "Processing Record 919 of 594 | stephenville\n",
      "Processing Record 921 of 594 | kattivakkam\n",
      "Processing Record 923 of 594 | krasnoyarsk\n",
      "Processing Record 925 of 594 | jaisalmer\n",
      "Processing Record 927 of 594 | takoradi\n",
      "Processing Record 929 of 594 | maragogi\n",
      "Processing Record 931 of 594 | saint-esteve\n",
      "Processing Record 933 of 594 | jinxiang\n",
      "Processing Record 935 of 594 | kimbe\n",
      "Processing Record 937 of 594 | belyy yar\n",
      "Processing Record 939 of 594 | muros\n",
      "Processing Record 941 of 594 | bustamante\n",
      "Processing Record 943 of 594 | ondorhaan\n",
      "'name'\n",
      "Processing Record 944 of 594 | pocri\n",
      "Processing Record 946 of 594 | karaul\n",
      "'name'\n",
      "Processing Record 947 of 594 | hoa binh\n",
      "Processing Record 949 of 594 | juba\n",
      "Processing Record 951 of 594 | karkaralinsk\n",
      "'name'\n",
      "Processing Record 952 of 594 | ranong\n",
      "Processing Record 954 of 594 | rawson\n",
      "Processing Record 956 of 594 | ampanihy\n",
      "Processing Record 958 of 594 | henties bay\n",
      "Processing Record 960 of 594 | kolda\n",
      "Processing Record 962 of 594 | kuching\n",
      "Processing Record 964 of 594 | shelburne\n",
      "Processing Record 966 of 594 | dubbo\n",
      "Processing Record 968 of 594 | tortoli\n",
      "Processing Record 970 of 594 | vastervik\n",
      "'name'\n",
      "Processing Record 971 of 594 | esso\n",
      "Processing Record 973 of 594 | laguna\n",
      "Processing Record 975 of 594 | kijang\n",
      "Processing Record 977 of 594 | kinkala\n",
      "Processing Record 979 of 594 | pavino\n",
      "Processing Record 981 of 594 | inhambane\n",
      "Processing Record 983 of 594 | zhitikara\n",
      "'name'\n",
      "Processing Record 984 of 594 | tabialan\n",
      "'name'\n",
      "Processing Record 985 of 594 | segezha\n",
      "Processing Record 987 of 594 | makakilo city\n",
      "Processing Record 989 of 594 | japura\n",
      "Processing Record 991 of 594 | umba\n",
      "Processing Record 993 of 594 | bay-khaak\n",
      "Processing Record 995 of 594 | ribas do rio pardo\n",
      "Processing Record 997 of 594 | margate\n",
      "Processing Record 999 of 594 | pasir gudang\n",
      "Processing Record 1001 of 594 | vyazemskiy\n",
      "Processing Record 1003 of 594 | hami\n",
      "Processing Record 1005 of 594 | kholodnyy\n",
      "Processing Record 1007 of 594 | itoman\n",
      "Processing Record 1009 of 594 | oranjemund\n",
      "Processing Record 1011 of 594 | payo\n",
      "Processing Record 1013 of 594 | sao jose da coroa grande\n",
      "Processing Record 1015 of 594 | doka\n",
      "Processing Record 1017 of 594 | verkhnevilyuysk\n",
      "Processing Record 1019 of 594 | dunedin\n",
      "Processing Record 1021 of 594 | quatre cocos\n",
      "Processing Record 1023 of 594 | salalah\n",
      "Processing Record 1025 of 594 | coihaique\n",
      "Processing Record 1027 of 594 | khombole\n",
      "Processing Record 1029 of 594 | usinsk\n",
      "Processing Record 1031 of 594 | moussoro\n",
      "Processing Record 1033 of 594 | warqla\n",
      "'name'\n",
      "Processing Record 1034 of 594 | daru\n",
      "Processing Record 1036 of 594 | umzimvubu\n",
      "'name'\n",
      "Processing Record 1037 of 594 | misratah\n",
      "Processing Record 1039 of 594 | shush\n",
      "Processing Record 1041 of 594 | nyurba\n",
      "Processing Record 1043 of 594 | hosdurga\n",
      "Processing Record 1045 of 594 | bawal\n",
      "Processing Record 1047 of 594 | wagga wagga\n",
      "Processing Record 1049 of 594 | san jose\n",
      "Processing Record 1051 of 594 | oga\n",
      "Processing Record 1053 of 594 | dawson creek\n",
      "Processing Record 1055 of 594 | maceio\n",
      "Processing Record 1057 of 594 | kautokeino\n",
      "Processing Record 1059 of 594 | dalvik\n",
      "Processing Record 1061 of 594 | ust-kuyga\n",
      "Processing Record 1063 of 594 | soc trang\n",
      "Processing Record 1065 of 594 | beni suef\n",
      "Processing Record 1067 of 594 | zachagansk\n",
      "'name'\n",
      "Processing Record 1068 of 594 | tommot\n",
      "Processing Record 1070 of 594 | kemise\n",
      "Processing Record 1072 of 594 | opobo\n",
      "'name'\n",
      "Processing Record 1073 of 594 | north bend\n",
      "Processing Record 1075 of 594 | alamogordo\n",
      "Processing Record 1077 of 594 | sholapur\n",
      "Processing Record 1079 of 594 | sarab\n",
      "Processing Record 1081 of 594 | asyut\n",
      "Processing Record 1083 of 594 | rexburg\n",
      "Processing Record 1085 of 594 | wazzan\n",
      "'name'\n",
      "Processing Record 1086 of 594 | meschede\n",
      "Processing Record 1088 of 594 | lorengau\n",
      "Processing Record 1090 of 594 | pangai\n",
      "Processing Record 1092 of 594 | lolua\n",
      "'name'\n",
      "Processing Record 1093 of 594 | longlac\n",
      "'name'\n",
      "Processing Record 1094 of 594 | basco\n",
      "Processing Record 1096 of 594 | baruun-urt\n",
      "Processing Record 1098 of 594 | mgandu\n",
      "Processing Record 1100 of 594 | kokopo\n",
      "Processing Record 1102 of 594 | traverse city\n",
      "Processing Record 1104 of 594 | ahipara\n",
      "Processing Record 1106 of 594 | tres passos\n",
      "Processing Record 1108 of 594 | san pedro de macoris\n",
      "Processing Record 1110 of 594 | ventspils\n",
      "Processing Record 1112 of 594 | coatesville\n",
      "Processing Record 1114 of 594 | rudsar\n",
      "Processing Record 1116 of 594 | tygda\n",
      "Processing Record 1118 of 594 | nelson bay\n",
      "Processing Record 1120 of 594 | maneadero\n",
      "Processing Record 1122 of 594 | louisbourg\n",
      "'name'\n",
      "Processing Record 1123 of 594 | mayo\n",
      "Processing Record 1125 of 594 | axim\n",
      "Processing Record 1127 of 594 | newark\n",
      "Processing Record 1129 of 594 | bilibino\n",
      "Processing Record 1131 of 594 | tarakan\n",
      "Processing Record 1133 of 594 | hurricane\n",
      "Processing Record 1135 of 594 | tasbuget\n",
      "'name'\n",
      "Processing Record 1136 of 594 | oranjestad\n",
      "Processing Record 1138 of 594 | lubango\n",
      "end of stats loop\n",
      "Could not get data for 49 cities\n"
     ]
    }
   ],
   "source": [
    "citydata = []\n",
    "cloud = []\n",
    "country = []\n",
    "date = []\n",
    "hum = []\n",
    "latitude = []\n",
    "longitude = []\n",
    "max_temp = []\n",
    "wind = []\n",
    "\n",
    "count = 1 \n",
    "err = 0 \n",
    "\n",
    "print(f\"Starting Data Retrieval (at 1 call per 1.01 seconds)\")\n",
    "\n",
    "for city in cities:\n",
    "    response = requests.get(query_url + city).json()\n",
    "    try:\n",
    "        print(f\"Processing Record {count} of {len(cities)} | {city}\")\n",
    "        citydata.append(response[\"name\"])\n",
    "        cloud.append(response[\"clouds\"][\"all\"])\n",
    "        country.append(response[\"sys\"][\"country\"])\n",
    "        date.append(response[\"sys\"][\"sunrise\"])\n",
    "        hum.append(response[\"main\"][\"humidity\"])\n",
    "        latitude.append(response[\"coord\"][\"lat\"])\n",
    "        longitude.append(response[\"coord\"][\"lon\"])\n",
    "        max_temp.append(response[\"main\"][\"temp_max\"])\n",
    "        wind.append(response[\"wind\"][\"speed\"])\n",
    "        \n",
    "        count = count+1\n",
    "        time.sleep(1.01)# making sure I don't go over the free api call limit per second\n",
    "    except Exception as e:\n",
    "        print(e)\n",
    "        err= err+1\n",
    "    count = count+1\n",
    "print(\"end of stats loop\")\n",
    "print(f'Could not get data for {err} cities')"
   ]
  },
  {
   "cell_type": "code",
   "execution_count": 8,
   "metadata": {},
   "outputs": [
    {
     "data": {
      "text/plain": [
       "City                   545\n",
       "Cloud Cover            545\n",
       "Country                545\n",
       "Date                   545\n",
       "Humidity               545\n",
       "Latitude               545\n",
       "Longitude              545\n",
       "Maximum Temperature    545\n",
       "Wind Speed (MPH)       545\n",
       "dtype: int64"
      ]
     },
     "execution_count": 8,
     "metadata": {},
     "output_type": "execute_result"
    }
   ],
   "source": [
    "weatherpy_d = {\n",
    "    \"City\": citydata,\n",
    "    \"Cloud Cover\": cloud,\n",
    "    \"Country\": country,\n",
    "    \"Date\": date,\n",
    "    \"Humidity\": hum,\n",
    "    \"Latitude\": latitude, \n",
    "    \"Longitude\": longitude,\n",
    "    \"Maximum Temperature\": max_temp,\n",
    "    \"Wind Speed (MPH)\": wind\n",
    "}\n",
    "\n",
    "weather_data = pd.DataFrame(weatherpy_d)\n",
    "weather_data.count()"
   ]
  },
  {
   "cell_type": "code",
   "execution_count": 9,
   "metadata": {},
   "outputs": [],
   "source": [
    "def k_to_f(x):\n",
    "    x = (x-273.15) * 1.8 + 32\n",
    "    return(x)"
   ]
  },
  {
   "cell_type": "code",
   "execution_count": 10,
   "metadata": {},
   "outputs": [],
   "source": [
    "weather_data[\"Maximum Temperature\"] = weather_data[\"Maximum Temperature\"].apply(k_to_f)"
   ]
  },
  {
   "cell_type": "code",
   "execution_count": 11,
   "metadata": {},
   "outputs": [
    {
     "data": {
      "text/html": [
       "<div>\n",
       "<style scoped>\n",
       "    .dataframe tbody tr th:only-of-type {\n",
       "        vertical-align: middle;\n",
       "    }\n",
       "\n",
       "    .dataframe tbody tr th {\n",
       "        vertical-align: top;\n",
       "    }\n",
       "\n",
       "    .dataframe thead th {\n",
       "        text-align: right;\n",
       "    }\n",
       "</style>\n",
       "<table border=\"1\" class=\"dataframe\">\n",
       "  <thead>\n",
       "    <tr style=\"text-align: right;\">\n",
       "      <th></th>\n",
       "      <th>City</th>\n",
       "      <th>Cloud Cover</th>\n",
       "      <th>Country</th>\n",
       "      <th>Date</th>\n",
       "      <th>Humidity</th>\n",
       "      <th>Latitude</th>\n",
       "      <th>Longitude</th>\n",
       "      <th>Maximum Temperature</th>\n",
       "      <th>Wind Speed (MPH)</th>\n",
       "    </tr>\n",
       "  </thead>\n",
       "  <tbody>\n",
       "    <tr>\n",
       "      <th>0</th>\n",
       "      <td>Dikson</td>\n",
       "      <td>26</td>\n",
       "      <td>RU</td>\n",
       "      <td>0</td>\n",
       "      <td>94</td>\n",
       "      <td>73.51</td>\n",
       "      <td>80.55</td>\n",
       "      <td>41.162</td>\n",
       "      <td>2.66</td>\n",
       "    </tr>\n",
       "    <tr>\n",
       "      <th>1</th>\n",
       "      <td>Presidencia Roque Sáenz Peña</td>\n",
       "      <td>0</td>\n",
       "      <td>AR</td>\n",
       "      <td>1594896535</td>\n",
       "      <td>96</td>\n",
       "      <td>-26.79</td>\n",
       "      <td>-60.44</td>\n",
       "      <td>56.084</td>\n",
       "      <td>1.89</td>\n",
       "    </tr>\n",
       "    <tr>\n",
       "      <th>2</th>\n",
       "      <td>Ushuaia</td>\n",
       "      <td>0</td>\n",
       "      <td>AR</td>\n",
       "      <td>1594903538</td>\n",
       "      <td>79</td>\n",
       "      <td>-54.80</td>\n",
       "      <td>-68.30</td>\n",
       "      <td>28.400</td>\n",
       "      <td>4.10</td>\n",
       "    </tr>\n",
       "    <tr>\n",
       "      <th>3</th>\n",
       "      <td>Thompson</td>\n",
       "      <td>40</td>\n",
       "      <td>CA</td>\n",
       "      <td>1594894221</td>\n",
       "      <td>68</td>\n",
       "      <td>55.74</td>\n",
       "      <td>-97.86</td>\n",
       "      <td>66.200</td>\n",
       "      <td>2.60</td>\n",
       "    </tr>\n",
       "    <tr>\n",
       "      <th>4</th>\n",
       "      <td>Bredasdorp</td>\n",
       "      <td>0</td>\n",
       "      <td>ZA</td>\n",
       "      <td>1594964581</td>\n",
       "      <td>93</td>\n",
       "      <td>-34.53</td>\n",
       "      <td>20.04</td>\n",
       "      <td>39.200</td>\n",
       "      <td>2.60</td>\n",
       "    </tr>\n",
       "  </tbody>\n",
       "</table>\n",
       "</div>"
      ],
      "text/plain": [
       "                           City  Cloud Cover Country        Date  Humidity  \\\n",
       "0                        Dikson           26      RU           0        94   \n",
       "1  Presidencia Roque Sáenz Peña            0      AR  1594896535        96   \n",
       "2                       Ushuaia            0      AR  1594903538        79   \n",
       "3                      Thompson           40      CA  1594894221        68   \n",
       "4                    Bredasdorp            0      ZA  1594964581        93   \n",
       "\n",
       "   Latitude  Longitude  Maximum Temperature  Wind Speed (MPH)  \n",
       "0     73.51      80.55               41.162              2.66  \n",
       "1    -26.79     -60.44               56.084              1.89  \n",
       "2    -54.80     -68.30               28.400              4.10  \n",
       "3     55.74     -97.86               66.200              2.60  \n",
       "4    -34.53      20.04               39.200              2.60  "
      ]
     },
     "execution_count": 11,
     "metadata": {},
     "output_type": "execute_result"
    }
   ],
   "source": [
    "weather_data.head()"
   ]
  },
  {
   "cell_type": "markdown",
   "metadata": {},
   "source": [
    "### Convert Raw Data to DataFrame\n",
    "* Export the city data into a .csv.\n",
    "* Display the DataFrame"
   ]
  },
  {
   "cell_type": "code",
   "execution_count": 12,
   "metadata": {},
   "outputs": [
    {
     "data": {
      "text/html": [
       "<div>\n",
       "<style scoped>\n",
       "    .dataframe tbody tr th:only-of-type {\n",
       "        vertical-align: middle;\n",
       "    }\n",
       "\n",
       "    .dataframe tbody tr th {\n",
       "        vertical-align: top;\n",
       "    }\n",
       "\n",
       "    .dataframe thead th {\n",
       "        text-align: right;\n",
       "    }\n",
       "</style>\n",
       "<table border=\"1\" class=\"dataframe\">\n",
       "  <thead>\n",
       "    <tr style=\"text-align: right;\">\n",
       "      <th></th>\n",
       "      <th>City</th>\n",
       "      <th>Cloud Cover</th>\n",
       "      <th>Country</th>\n",
       "      <th>Date</th>\n",
       "      <th>Humidity</th>\n",
       "      <th>Latitude</th>\n",
       "      <th>Longitude</th>\n",
       "      <th>Maximum Temperature</th>\n",
       "      <th>Wind Speed (MPH)</th>\n",
       "    </tr>\n",
       "  </thead>\n",
       "  <tbody>\n",
       "    <tr>\n",
       "      <th>0</th>\n",
       "      <td>Dikson</td>\n",
       "      <td>26</td>\n",
       "      <td>RU</td>\n",
       "      <td>0</td>\n",
       "      <td>94</td>\n",
       "      <td>73.51</td>\n",
       "      <td>80.55</td>\n",
       "      <td>41.162</td>\n",
       "      <td>2.66</td>\n",
       "    </tr>\n",
       "    <tr>\n",
       "      <th>1</th>\n",
       "      <td>Presidencia Roque Sáenz Peña</td>\n",
       "      <td>0</td>\n",
       "      <td>AR</td>\n",
       "      <td>1594896535</td>\n",
       "      <td>96</td>\n",
       "      <td>-26.79</td>\n",
       "      <td>-60.44</td>\n",
       "      <td>56.084</td>\n",
       "      <td>1.89</td>\n",
       "    </tr>\n",
       "    <tr>\n",
       "      <th>2</th>\n",
       "      <td>Ushuaia</td>\n",
       "      <td>0</td>\n",
       "      <td>AR</td>\n",
       "      <td>1594903538</td>\n",
       "      <td>79</td>\n",
       "      <td>-54.80</td>\n",
       "      <td>-68.30</td>\n",
       "      <td>28.400</td>\n",
       "      <td>4.10</td>\n",
       "    </tr>\n",
       "    <tr>\n",
       "      <th>3</th>\n",
       "      <td>Thompson</td>\n",
       "      <td>40</td>\n",
       "      <td>CA</td>\n",
       "      <td>1594894221</td>\n",
       "      <td>68</td>\n",
       "      <td>55.74</td>\n",
       "      <td>-97.86</td>\n",
       "      <td>66.200</td>\n",
       "      <td>2.60</td>\n",
       "    </tr>\n",
       "    <tr>\n",
       "      <th>4</th>\n",
       "      <td>Bredasdorp</td>\n",
       "      <td>0</td>\n",
       "      <td>ZA</td>\n",
       "      <td>1594964581</td>\n",
       "      <td>93</td>\n",
       "      <td>-34.53</td>\n",
       "      <td>20.04</td>\n",
       "      <td>39.200</td>\n",
       "      <td>2.60</td>\n",
       "    </tr>\n",
       "  </tbody>\n",
       "</table>\n",
       "</div>"
      ],
      "text/plain": [
       "                           City  Cloud Cover Country        Date  Humidity  \\\n",
       "0                        Dikson           26      RU           0        94   \n",
       "1  Presidencia Roque Sáenz Peña            0      AR  1594896535        96   \n",
       "2                       Ushuaia            0      AR  1594903538        79   \n",
       "3                      Thompson           40      CA  1594894221        68   \n",
       "4                    Bredasdorp            0      ZA  1594964581        93   \n",
       "\n",
       "   Latitude  Longitude  Maximum Temperature  Wind Speed (MPH)  \n",
       "0     73.51      80.55               41.162              2.66  \n",
       "1    -26.79     -60.44               56.084              1.89  \n",
       "2    -54.80     -68.30               28.400              4.10  \n",
       "3     55.74     -97.86               66.200              2.60  \n",
       "4    -34.53      20.04               39.200              2.60  "
      ]
     },
     "execution_count": 12,
     "metadata": {},
     "output_type": "execute_result"
    }
   ],
   "source": [
    "weather_data.to_csv(\"cities.csv\")\n",
    "weather_data.head()"
   ]
  },
  {
   "cell_type": "markdown",
   "metadata": {},
   "source": [
    "## Inspect the data and remove the cities where the humidity > 100%.\n",
    "----\n",
    "Skip this step if there are no cities that have humidity > 100%. "
   ]
  },
  {
   "cell_type": "code",
   "execution_count": 13,
   "metadata": {},
   "outputs": [
    {
     "data": {
      "text/html": [
       "<div>\n",
       "<style scoped>\n",
       "    .dataframe tbody tr th:only-of-type {\n",
       "        vertical-align: middle;\n",
       "    }\n",
       "\n",
       "    .dataframe tbody tr th {\n",
       "        vertical-align: top;\n",
       "    }\n",
       "\n",
       "    .dataframe thead th {\n",
       "        text-align: right;\n",
       "    }\n",
       "</style>\n",
       "<table border=\"1\" class=\"dataframe\">\n",
       "  <thead>\n",
       "    <tr style=\"text-align: right;\">\n",
       "      <th></th>\n",
       "      <th>City</th>\n",
       "      <th>Cloud Cover</th>\n",
       "      <th>Country</th>\n",
       "      <th>Date</th>\n",
       "      <th>Humidity</th>\n",
       "      <th>Latitude</th>\n",
       "      <th>Longitude</th>\n",
       "      <th>Maximum Temperature</th>\n",
       "      <th>Wind Speed (MPH)</th>\n",
       "    </tr>\n",
       "  </thead>\n",
       "  <tbody>\n",
       "  </tbody>\n",
       "</table>\n",
       "</div>"
      ],
      "text/plain": [
       "Empty DataFrame\n",
       "Columns: [City, Cloud Cover, Country, Date, Humidity, Latitude, Longitude, Maximum Temperature, Wind Speed (MPH)]\n",
       "Index: []"
      ]
     },
     "execution_count": 13,
     "metadata": {},
     "output_type": "execute_result"
    }
   ],
   "source": [
    "high_hum = weather_data.loc[(weather_data[\"Humidity\"] > 100)]\n",
    "high_hum\n",
    "#No cities with Humidity over 100%, skipping to next sectuion."
   ]
  },
  {
   "cell_type": "code",
   "execution_count": 14,
   "metadata": {},
   "outputs": [],
   "source": [
    "#  Get the indices of cities that have humidity over 100%. "
   ]
  },
  {
   "cell_type": "code",
   "execution_count": 15,
   "metadata": {},
   "outputs": [],
   "source": [
    "# Make a new DataFrame equal to the city data to drop all humidity outliers by index.\n",
    "# Passing \"inplace=False\" will make a copy of the city_data DataFrame, which we call \"clean_city_data\".\n"
   ]
  },
  {
   "cell_type": "code",
   "execution_count": 16,
   "metadata": {},
   "outputs": [],
   "source": [
    "# Extract relevant fields from the data frame\n",
    "\n",
    "\n",
    "# Export the City_Data into a csv\n"
   ]
  },
  {
   "cell_type": "markdown",
   "metadata": {},
   "source": [
    "## Plotting the Data\n",
    "* Use proper labeling of the plots using plot titles (including date of analysis) and axes labels.\n",
    "* Save the plotted figures as .pngs."
   ]
  },
  {
   "cell_type": "markdown",
   "metadata": {},
   "source": [
    "## Latitude vs. Temperature Plot"
   ]
  },
  {
   "cell_type": "code",
   "execution_count": 123,
   "metadata": {
    "scrolled": true
   },
   "outputs": [
    {
     "data": {
      "image/png": "[encoded data removed]",
      "text/plain": [
       "<Figure size 1080x720 with 1 Axes>"
      ]
     },
     "metadata": {
      "needs_background": "light"
     },
     "output_type": "display_data"
    }
   ],
   "source": [
    "plt.figure(figsize=(15,10))\n",
    "plt.scatter(weather_data[\"Latitude\"], weather_data[\"Maximum Temperature\"], color='green', alpha=0.5)\n",
    "plt.xlabel(\"Latitude\")\n",
    "plt.ylabel(\"Maximum Temperature (F)\")\n",
    "plt.title(f\"City Latitude vs Maximum Temperature 7/16/20\")\n",
    "plt.savefig(\"Images/Latitude_vs_Temp.png\")\n",
    "plt.show()"
   ]
  },
  {
   "cell_type": "code",
   "execution_count": null,
   "metadata": {},
   "outputs": [],
   "source": [
    "#This scatterplot shows that the temperature of the noted cities increases the closer you travel to the equator, and lower the closer you get to either pole (North/South)."
   ]
  },
  {
   "cell_type": "markdown",
   "metadata": {},
   "source": [
    "## Latitude vs. Humidity Plot"
   ]
  },
  {
   "cell_type": "code",
   "execution_count": 124,
   "metadata": {},
   "outputs": [
    {
     "data": {
      "image/png": "[encoded data removed]",
      "text/plain": [
       "<Figure size 1080x720 with 1 Axes>"
      ]
     },
     "metadata": {
      "needs_background": "light"
     },
     "output_type": "display_data"
    }
   ],
   "source": [
    "plt.figure(figsize=(15,10))\n",
    "plt.scatter(weather_data[\"Latitude\"], weather_data[\"Humidity\"], color='blue', alpha=0.5)\n",
    "plt.xlabel(\"Latitude\")\n",
    "plt.ylabel(\"Humidity %\")\n",
    "plt.title(f\"City Latitude vs Humidity % 7/16/20\")\n",
    "plt.savefig(\"Images/Latitude_vs_Humidity.png\")\n",
    "plt.show()"
   ]
  },
  {
   "cell_type": "code",
   "execution_count": null,
   "metadata": {},
   "outputs": [],
   "source": [
    "# This scatterplot shows that there seems to be a relatively even distribution of humidity across all latitudes. "
   ]
  },
  {
   "cell_type": "markdown",
   "metadata": {},
   "source": [
    "## Latitude vs. Cloudiness Plot"
   ]
  },
  {
   "cell_type": "code",
   "execution_count": 125,
   "metadata": {},
   "outputs": [
    {
     "data": {
      "image/png": "[encoded data removed]",
      "text/plain": [
       "<Figure size 1080x720 with 1 Axes>"
      ]
     },
     "metadata": {
      "needs_background": "light"
     },
     "output_type": "display_data"
    }
   ],
   "source": [
    "plt.figure(figsize=(15,10))\n",
    "plt.scatter(weather_data[\"Latitude\"], weather_data[\"Cloud Cover\"], color='black', alpha=0.5)\n",
    "plt.xlabel(\"Latitude\")\n",
    "plt.ylabel(\"Cloud Cover %\")\n",
    "plt.title(f\"City Latitude vs Cloud Cover % 7/16/20\")\n",
    "plt.savefig(\"Images/Latitude_vs_Cloud_Cover.png\")\n",
    "plt.show()"
   ]
  },
  {
   "cell_type": "code",
   "execution_count": null,
   "metadata": {},
   "outputs": [],
   "source": [
    "# This scatterplot shows that there does not seem to be a significant correlation (at first glance, before running regression) between cloud cover and latitude. "
   ]
  },
  {
   "cell_type": "markdown",
   "metadata": {},
   "source": [
    "## Latitude vs. Wind Speed Plot"
   ]
  },
  {
   "cell_type": "code",
   "execution_count": 126,
   "metadata": {},
   "outputs": [
    {
     "data": {
      "image/png": "[encoded data removed]",
      "text/plain": [
       "<Figure size 1080x720 with 1 Axes>"
      ]
     },
     "metadata": {
      "needs_background": "light"
     },
     "output_type": "display_data"
    }
   ],
   "source": [
    "plt.figure(figsize=(15,10))\n",
    "plt.scatter(weather_data[\"Latitude\"], weather_data[\"Wind Speed (MPH)\"], color='orange', alpha=0.5)\n",
    "plt.xlabel(\"Latitude\")\n",
    "plt.ylabel(\"Wind Speed (MPH)\")\n",
    "plt.title(f\"City Latitude vs Wind Speed (MPH) 7/16/20\")\n",
    "plt.savefig(\"Images/Latitude_vs_Wind_Speed.png\")\n",
    "plt.show()"
   ]
  },
  {
   "cell_type": "code",
   "execution_count": null,
   "metadata": {},
   "outputs": [],
   "source": [
    "#This scatterplot shows that there seems to be little correlation (before running linear regression) between wind speed and latitude; however it looks as though globally, it did not seem to be an overly windy day throughout. "
   ]
  },
  {
   "cell_type": "markdown",
   "metadata": {},
   "source": [
    "## Linear Regression"
   ]
  },
  {
   "cell_type": "code",
   "execution_count": 21,
   "metadata": {},
   "outputs": [],
   "source": [
    "# OPTIONAL: Create a function to create Linear Regression plots"
   ]
  },
  {
   "cell_type": "code",
   "execution_count": 22,
   "metadata": {},
   "outputs": [],
   "source": [
    "# Create Northern and Southern Hemisphere DataFrames"
   ]
  },
  {
   "cell_type": "markdown",
   "metadata": {},
   "source": [
    "####  Northern Hemisphere - Max Temp vs. Latitude Linear Regression"
   ]
  },
  {
   "cell_type": "code",
   "execution_count": 28,
   "metadata": {},
   "outputs": [
    {
     "data": {
      "text/html": [
       "<div>\n",
       "<style scoped>\n",
       "    .dataframe tbody tr th:only-of-type {\n",
       "        vertical-align: middle;\n",
       "    }\n",
       "\n",
       "    .dataframe tbody tr th {\n",
       "        vertical-align: top;\n",
       "    }\n",
       "\n",
       "    .dataframe thead th {\n",
       "        text-align: right;\n",
       "    }\n",
       "</style>\n",
       "<table border=\"1\" class=\"dataframe\">\n",
       "  <thead>\n",
       "    <tr style=\"text-align: right;\">\n",
       "      <th></th>\n",
       "      <th>City</th>\n",
       "      <th>Cloud Cover</th>\n",
       "      <th>Country</th>\n",
       "      <th>Date</th>\n",
       "      <th>Humidity</th>\n",
       "      <th>Latitude</th>\n",
       "      <th>Longitude</th>\n",
       "      <th>Maximum Temperature</th>\n",
       "      <th>Wind Speed (MPH)</th>\n",
       "    </tr>\n",
       "  </thead>\n",
       "  <tbody>\n",
       "    <tr>\n",
       "      <th>0</th>\n",
       "      <td>Dikson</td>\n",
       "      <td>26</td>\n",
       "      <td>RU</td>\n",
       "      <td>0</td>\n",
       "      <td>94</td>\n",
       "      <td>73.51</td>\n",
       "      <td>80.55</td>\n",
       "      <td>41.162</td>\n",
       "      <td>2.66</td>\n",
       "    </tr>\n",
       "    <tr>\n",
       "      <th>3</th>\n",
       "      <td>Thompson</td>\n",
       "      <td>40</td>\n",
       "      <td>CA</td>\n",
       "      <td>1594894221</td>\n",
       "      <td>68</td>\n",
       "      <td>55.74</td>\n",
       "      <td>-97.86</td>\n",
       "      <td>66.200</td>\n",
       "      <td>2.60</td>\n",
       "    </tr>\n",
       "    <tr>\n",
       "      <th>5</th>\n",
       "      <td>Ponta do Sol</td>\n",
       "      <td>20</td>\n",
       "      <td>PT</td>\n",
       "      <td>1594966360</td>\n",
       "      <td>77</td>\n",
       "      <td>32.67</td>\n",
       "      <td>-17.10</td>\n",
       "      <td>68.000</td>\n",
       "      <td>2.10</td>\n",
       "    </tr>\n",
       "    <tr>\n",
       "      <th>7</th>\n",
       "      <td>Batagay-Alyta</td>\n",
       "      <td>100</td>\n",
       "      <td>RU</td>\n",
       "      <td>1594914944</td>\n",
       "      <td>82</td>\n",
       "      <td>67.80</td>\n",
       "      <td>130.41</td>\n",
       "      <td>46.706</td>\n",
       "      <td>1.27</td>\n",
       "    </tr>\n",
       "    <tr>\n",
       "      <th>8</th>\n",
       "      <td>Jamestown</td>\n",
       "      <td>90</td>\n",
       "      <td>US</td>\n",
       "      <td>1594893325</td>\n",
       "      <td>94</td>\n",
       "      <td>42.10</td>\n",
       "      <td>-79.24</td>\n",
       "      <td>73.004</td>\n",
       "      <td>1.50</td>\n",
       "    </tr>\n",
       "    <tr>\n",
       "      <th>...</th>\n",
       "      <td>...</td>\n",
       "      <td>...</td>\n",
       "      <td>...</td>\n",
       "      <td>...</td>\n",
       "      <td>...</td>\n",
       "      <td>...</td>\n",
       "      <td>...</td>\n",
       "      <td>...</td>\n",
       "      <td>...</td>\n",
       "    </tr>\n",
       "    <tr>\n",
       "      <th>539</th>\n",
       "      <td>Newark</td>\n",
       "      <td>75</td>\n",
       "      <td>US</td>\n",
       "      <td>1594892357</td>\n",
       "      <td>68</td>\n",
       "      <td>40.74</td>\n",
       "      <td>-74.17</td>\n",
       "      <td>71.600</td>\n",
       "      <td>3.60</td>\n",
       "    </tr>\n",
       "    <tr>\n",
       "      <th>540</th>\n",
       "      <td>Bilibino</td>\n",
       "      <td>97</td>\n",
       "      <td>RU</td>\n",
       "      <td>0</td>\n",
       "      <td>77</td>\n",
       "      <td>68.05</td>\n",
       "      <td>166.44</td>\n",
       "      <td>53.114</td>\n",
       "      <td>1.35</td>\n",
       "    </tr>\n",
       "    <tr>\n",
       "      <th>541</th>\n",
       "      <td>Tarakan</td>\n",
       "      <td>83</td>\n",
       "      <td>ID</td>\n",
       "      <td>1594937204</td>\n",
       "      <td>78</td>\n",
       "      <td>3.30</td>\n",
       "      <td>117.63</td>\n",
       "      <td>79.286</td>\n",
       "      <td>1.29</td>\n",
       "    </tr>\n",
       "    <tr>\n",
       "      <th>542</th>\n",
       "      <td>Hurricane</td>\n",
       "      <td>1</td>\n",
       "      <td>US</td>\n",
       "      <td>1594902349</td>\n",
       "      <td>10</td>\n",
       "      <td>37.18</td>\n",
       "      <td>-113.29</td>\n",
       "      <td>102.200</td>\n",
       "      <td>5.70</td>\n",
       "    </tr>\n",
       "    <tr>\n",
       "      <th>543</th>\n",
       "      <td>Oranjestad</td>\n",
       "      <td>20</td>\n",
       "      <td>AW</td>\n",
       "      <td>1594894952</td>\n",
       "      <td>83</td>\n",
       "      <td>12.52</td>\n",
       "      <td>-70.03</td>\n",
       "      <td>82.400</td>\n",
       "      <td>8.20</td>\n",
       "    </tr>\n",
       "  </tbody>\n",
       "</table>\n",
       "<p>373 rows × 9 columns</p>\n",
       "</div>"
      ],
      "text/plain": [
       "              City  Cloud Cover Country        Date  Humidity  Latitude  \\\n",
       "0           Dikson           26      RU           0        94     73.51   \n",
       "3         Thompson           40      CA  1594894221        68     55.74   \n",
       "5     Ponta do Sol           20      PT  1594966360        77     32.67   \n",
       "7    Batagay-Alyta          100      RU  1594914944        82     67.80   \n",
       "8        Jamestown           90      US  1594893325        94     42.10   \n",
       "..             ...          ...     ...         ...       ...       ...   \n",
       "539         Newark           75      US  1594892357        68     40.74   \n",
       "540       Bilibino           97      RU           0        77     68.05   \n",
       "541        Tarakan           83      ID  1594937204        78      3.30   \n",
       "542      Hurricane            1      US  1594902349        10     37.18   \n",
       "543     Oranjestad           20      AW  1594894952        83     12.52   \n",
       "\n",
       "     Longitude  Maximum Temperature  Wind Speed (MPH)  \n",
       "0        80.55               41.162              2.66  \n",
       "3       -97.86               66.200              2.60  \n",
       "5       -17.10               68.000              2.10  \n",
       "7       130.41               46.706              1.27  \n",
       "8       -79.24               73.004              1.50  \n",
       "..         ...                  ...               ...  \n",
       "539     -74.17               71.600              3.60  \n",
       "540     166.44               53.114              1.35  \n",
       "541     117.63               79.286              1.29  \n",
       "542    -113.29              102.200              5.70  \n",
       "543     -70.03               82.400              8.20  \n",
       "\n",
       "[373 rows x 9 columns]"
      ]
     },
     "execution_count": 28,
     "metadata": {},
     "output_type": "execute_result"
    }
   ],
   "source": [
    "lin_reg_north = weather_data.loc[(weather_data[\"Latitude\"] > 0)]\n",
    "lin_reg_north"
   ]
  },
  {
   "cell_type": "code",
   "execution_count": 29,
   "metadata": {},
   "outputs": [],
   "source": [
    "data1 = lin_reg_north[\"Latitude\"]\n",
    "data2 = lin_reg_north[\"Maximum Temperature\"]"
   ]
  },
  {
   "cell_type": "code",
   "execution_count": 30,
   "metadata": {},
   "outputs": [
    {
     "data": {
      "image/png": "[encoded data removed]",
      "text/plain": [
       "<Figure size 432x288 with 1 Axes>"
      ]
     },
     "metadata": {
      "needs_background": "light"
     },
     "output_type": "display_data"
    }
   ],
   "source": [
    "plt.scatter(data1, data2)\n",
    "plt.show()"
   ]
  },
  {
   "cell_type": "code",
   "execution_count": 33,
   "metadata": {},
   "outputs": [
    {
     "name": "stdout",
     "output_type": "stream",
     "text": [
      "Covariance: [[ 406.43735652 -185.36543736]\n",
      " [-185.36543736  175.06402482]]\n"
     ]
    }
   ],
   "source": [
    "covariance = cov(data1, data2)\n",
    "print('Covariance:', covariance)"
   ]
  },
  {
   "cell_type": "code",
   "execution_count": 36,
   "metadata": {},
   "outputs": [
    {
     "name": "stdout",
     "output_type": "stream",
     "text": [
      "Pearsons correlation: -0.695\n"
     ]
    }
   ],
   "source": [
    "corr, _ = pearsonr(data1, data2)\n",
    "print('Pearsons correlation: %.3f' % corr)"
   ]
  },
  {
   "cell_type": "code",
   "execution_count": 39,
   "metadata": {},
   "outputs": [
    {
     "name": "stdout",
     "output_type": "stream",
     "text": [
      "Spearmans correlation: -0.716\n"
     ]
    }
   ],
   "source": [
    "corr, _ = spearmanr(data1, data2)\n",
    "print('Spearmans correlation: %.3f' % corr)"
   ]
  },
  {
   "cell_type": "code",
   "execution_count": 116,
   "metadata": {},
   "outputs": [
    {
     "name": "stdout",
     "output_type": "stream",
     "text": [
      "The r-squared is: 0.48291088364699863\n"
     ]
    },
    {
     "data": {
      "image/png": "[encoded data removed]",
      "text/plain": [
       "<Figure size 432x288 with 1 Axes>"
      ]
     },
     "metadata": {
      "needs_background": "light"
     },
     "output_type": "display_data"
    }
   ],
   "source": [
    "x_values = lin_reg_north[\"Latitude\"]\n",
    "y_values = lin_reg_north[\"Maximum Temperature\"]\n",
    "(slope, intercept, rvalue, pvalue, stderr) = linregress(x_values, y_values)\n",
    "regress_values = x_values * slope + intercept\n",
    "line_eq = \"y = \" + str(round(slope,2)) + \"x + \" + str(round(intercept,2))\n",
    "plt.scatter(x_values,y_values)\n",
    "plt.plot(x_values,regress_values,\"r-\")\n",
    "plt.annotate(line_eq,(6,0),fontsize=15,color=\"red\")\n",
    "plt.xlabel(\"Latitude\")\n",
    "plt.ylabel(\"Maximum Temperature\")\n",
    "plt.title(\"Northern Hemisphere Latitude VS Temp 7/16/20\")\n",
    "print(f\"The r-squared is: {rvalue**2}\")\n",
    "plt.savefig(\"Images/Latitude_vs_Maximum_Temp_LinRegress_North.png\")\n",
    "plt.show()"
   ]
  },
  {
   "cell_type": "code",
   "execution_count": null,
   "metadata": {},
   "outputs": [],
   "source": [
    "# There seems to be a weak linear correlation between latitude and maximum temperature, though not necessarily as strong as one might expect for this season in the northern hemisphere. "
   ]
  },
  {
   "cell_type": "markdown",
   "metadata": {},
   "source": [
    "####  Southern Hemisphere - Max Temp vs. Latitude Linear Regression"
   ]
  },
  {
   "cell_type": "code",
   "execution_count": 41,
   "metadata": {},
   "outputs": [
    {
     "data": {
      "text/html": [
       "<div>\n",
       "<style scoped>\n",
       "    .dataframe tbody tr th:only-of-type {\n",
       "        vertical-align: middle;\n",
       "    }\n",
       "\n",
       "    .dataframe tbody tr th {\n",
       "        vertical-align: top;\n",
       "    }\n",
       "\n",
       "    .dataframe thead th {\n",
       "        text-align: right;\n",
       "    }\n",
       "</style>\n",
       "<table border=\"1\" class=\"dataframe\">\n",
       "  <thead>\n",
       "    <tr style=\"text-align: right;\">\n",
       "      <th></th>\n",
       "      <th>City</th>\n",
       "      <th>Cloud Cover</th>\n",
       "      <th>Country</th>\n",
       "      <th>Date</th>\n",
       "      <th>Humidity</th>\n",
       "      <th>Latitude</th>\n",
       "      <th>Longitude</th>\n",
       "      <th>Maximum Temperature</th>\n",
       "      <th>Wind Speed (MPH)</th>\n",
       "    </tr>\n",
       "  </thead>\n",
       "  <tbody>\n",
       "    <tr>\n",
       "      <th>1</th>\n",
       "      <td>Presidencia Roque Sáenz Peña</td>\n",
       "      <td>0</td>\n",
       "      <td>AR</td>\n",
       "      <td>1594896535</td>\n",
       "      <td>96</td>\n",
       "      <td>-26.79</td>\n",
       "      <td>-60.44</td>\n",
       "      <td>56.084</td>\n",
       "      <td>1.89</td>\n",
       "    </tr>\n",
       "    <tr>\n",
       "      <th>2</th>\n",
       "      <td>Ushuaia</td>\n",
       "      <td>0</td>\n",
       "      <td>AR</td>\n",
       "      <td>1594903538</td>\n",
       "      <td>79</td>\n",
       "      <td>-54.80</td>\n",
       "      <td>-68.30</td>\n",
       "      <td>28.400</td>\n",
       "      <td>4.10</td>\n",
       "    </tr>\n",
       "    <tr>\n",
       "      <th>4</th>\n",
       "      <td>Bredasdorp</td>\n",
       "      <td>0</td>\n",
       "      <td>ZA</td>\n",
       "      <td>1594964581</td>\n",
       "      <td>93</td>\n",
       "      <td>-34.53</td>\n",
       "      <td>20.04</td>\n",
       "      <td>39.200</td>\n",
       "      <td>2.60</td>\n",
       "    </tr>\n",
       "    <tr>\n",
       "      <th>6</th>\n",
       "      <td>Neuquén</td>\n",
       "      <td>75</td>\n",
       "      <td>AR</td>\n",
       "      <td>1594899998</td>\n",
       "      <td>70</td>\n",
       "      <td>-38.95</td>\n",
       "      <td>-68.06</td>\n",
       "      <td>46.400</td>\n",
       "      <td>1.50</td>\n",
       "    </tr>\n",
       "    <tr>\n",
       "      <th>10</th>\n",
       "      <td>Rikitea</td>\n",
       "      <td>100</td>\n",
       "      <td>PF</td>\n",
       "      <td>1594914003</td>\n",
       "      <td>81</td>\n",
       "      <td>-23.12</td>\n",
       "      <td>-134.97</td>\n",
       "      <td>73.688</td>\n",
       "      <td>2.74</td>\n",
       "    </tr>\n",
       "    <tr>\n",
       "      <th>...</th>\n",
       "      <td>...</td>\n",
       "      <td>...</td>\n",
       "      <td>...</td>\n",
       "      <td>...</td>\n",
       "      <td>...</td>\n",
       "      <td>...</td>\n",
       "      <td>...</td>\n",
       "      <td>...</td>\n",
       "      <td>...</td>\n",
       "    </tr>\n",
       "    <tr>\n",
       "      <th>526</th>\n",
       "      <td>Kokopo</td>\n",
       "      <td>45</td>\n",
       "      <td>PG</td>\n",
       "      <td>1594929605</td>\n",
       "      <td>77</td>\n",
       "      <td>-4.35</td>\n",
       "      <td>152.26</td>\n",
       "      <td>82.616</td>\n",
       "      <td>0.95</td>\n",
       "    </tr>\n",
       "    <tr>\n",
       "      <th>528</th>\n",
       "      <td>Ahipara</td>\n",
       "      <td>100</td>\n",
       "      <td>NZ</td>\n",
       "      <td>1594927931</td>\n",
       "      <td>92</td>\n",
       "      <td>-35.17</td>\n",
       "      <td>173.17</td>\n",
       "      <td>59.180</td>\n",
       "      <td>4.72</td>\n",
       "    </tr>\n",
       "    <tr>\n",
       "      <th>529</th>\n",
       "      <td>Três Passos</td>\n",
       "      <td>97</td>\n",
       "      <td>BR</td>\n",
       "      <td>1594895051</td>\n",
       "      <td>93</td>\n",
       "      <td>-27.46</td>\n",
       "      <td>-53.93</td>\n",
       "      <td>59.000</td>\n",
       "      <td>0.89</td>\n",
       "    </tr>\n",
       "    <tr>\n",
       "      <th>535</th>\n",
       "      <td>Nelson Bay</td>\n",
       "      <td>90</td>\n",
       "      <td>AU</td>\n",
       "      <td>1594932640</td>\n",
       "      <td>82</td>\n",
       "      <td>-32.72</td>\n",
       "      <td>152.15</td>\n",
       "      <td>57.200</td>\n",
       "      <td>7.70</td>\n",
       "    </tr>\n",
       "    <tr>\n",
       "      <th>544</th>\n",
       "      <td>Lubango</td>\n",
       "      <td>0</td>\n",
       "      <td>AO</td>\n",
       "      <td>1594963916</td>\n",
       "      <td>47</td>\n",
       "      <td>-14.92</td>\n",
       "      <td>13.49</td>\n",
       "      <td>47.876</td>\n",
       "      <td>4.50</td>\n",
       "    </tr>\n",
       "  </tbody>\n",
       "</table>\n",
       "<p>172 rows × 9 columns</p>\n",
       "</div>"
      ],
      "text/plain": [
       "                             City  Cloud Cover Country        Date  Humidity  \\\n",
       "1    Presidencia Roque Sáenz Peña            0      AR  1594896535        96   \n",
       "2                         Ushuaia            0      AR  1594903538        79   \n",
       "4                      Bredasdorp            0      ZA  1594964581        93   \n",
       "6                         Neuquén           75      AR  1594899998        70   \n",
       "10                        Rikitea          100      PF  1594914003        81   \n",
       "..                            ...          ...     ...         ...       ...   \n",
       "526                        Kokopo           45      PG  1594929605        77   \n",
       "528                       Ahipara          100      NZ  1594927931        92   \n",
       "529                   Três Passos           97      BR  1594895051        93   \n",
       "535                    Nelson Bay           90      AU  1594932640        82   \n",
       "544                       Lubango            0      AO  1594963916        47   \n",
       "\n",
       "     Latitude  Longitude  Maximum Temperature  Wind Speed (MPH)  \n",
       "1      -26.79     -60.44               56.084              1.89  \n",
       "2      -54.80     -68.30               28.400              4.10  \n",
       "4      -34.53      20.04               39.200              2.60  \n",
       "6      -38.95     -68.06               46.400              1.50  \n",
       "10     -23.12    -134.97               73.688              2.74  \n",
       "..        ...        ...                  ...               ...  \n",
       "526     -4.35     152.26               82.616              0.95  \n",
       "528    -35.17     173.17               59.180              4.72  \n",
       "529    -27.46     -53.93               59.000              0.89  \n",
       "535    -32.72     152.15               57.200              7.70  \n",
       "544    -14.92      13.49               47.876              4.50  \n",
       "\n",
       "[172 rows x 9 columns]"
      ]
     },
     "execution_count": 41,
     "metadata": {},
     "output_type": "execute_result"
    }
   ],
   "source": [
    "lin_reg_south = weather_data.loc[(weather_data[\"Latitude\"] < 0)]\n",
    "lin_reg_south"
   ]
  },
  {
   "cell_type": "code",
   "execution_count": 50,
   "metadata": {},
   "outputs": [],
   "source": [
    "data_1 = lin_reg_south[\"Latitude\"]\n",
    "data2 = lin_reg_south[\"Maximum Temperature\"]"
   ]
  },
  {
   "cell_type": "code",
   "execution_count": 51,
   "metadata": {},
   "outputs": [
    {
     "data": {
      "image/png": "[encoded data removed]",
      "text/plain": [
       "<Figure size 432x288 with 1 Axes>"
      ]
     },
     "metadata": {
      "needs_background": "light"
     },
     "output_type": "display_data"
    }
   ],
   "source": [
    "plt.scatter(data1, data2)\n",
    "plt.show()"
   ]
  },
  {
   "cell_type": "code",
   "execution_count": 52,
   "metadata": {},
   "outputs": [
    {
     "name": "stdout",
     "output_type": "stream",
     "text": [
      "Covariance: [[189.88541932 154.04520958]\n",
      " [154.04520958 210.44876532]]\n"
     ]
    }
   ],
   "source": [
    "covariance = cov(data_1, data2)\n",
    "print('Covariance:', covariance)"
   ]
  },
  {
   "cell_type": "code",
   "execution_count": 53,
   "metadata": {},
   "outputs": [
    {
     "name": "stdout",
     "output_type": "stream",
     "text": [
      "Pearsons correlation: 0.771\n"
     ]
    }
   ],
   "source": [
    "corr, _ = pearsonr(data_1, data2)\n",
    "print('Pearsons correlation: %.3f' % corr)"
   ]
  },
  {
   "cell_type": "code",
   "execution_count": 54,
   "metadata": {},
   "outputs": [
    {
     "name": "stdout",
     "output_type": "stream",
     "text": [
      "Spearmans correlation: 0.756\n"
     ]
    }
   ],
   "source": [
    "corr, _ = spearmanr(data_1, data2)\n",
    "print('Spearmans correlation: %.3f' % corr)"
   ]
  },
  {
   "cell_type": "code",
   "execution_count": 115,
   "metadata": {},
   "outputs": [
    {
     "name": "stdout",
     "output_type": "stream",
     "text": [
      "The r-squared is: 0.5938248868966043\n"
     ]
    },
    {
     "data": {
      "image/png": "[encoded data removed]",
      "text/plain": [
       "<Figure size 432x288 with 1 Axes>"
      ]
     },
     "metadata": {
      "needs_background": "light"
     },
     "output_type": "display_data"
    }
   ],
   "source": [
    "x_values = lin_reg_south[\"Latitude\"]\n",
    "y_values = lin_reg_south[\"Maximum Temperature\"]\n",
    "(slope, intercept, rvalue, pvalue, stderr) = linregress(x_values, y_values)\n",
    "regress_values = x_values * slope + intercept\n",
    "line_eq = \"y = \" + str(round(slope,2)) + \"x + \" + str(round(intercept,2))\n",
    "plt.scatter(x_values,y_values)\n",
    "plt.plot(x_values,regress_values,\"r-\")\n",
    "plt.annotate(line_eq,(6,0),fontsize=15,color=\"red\")\n",
    "plt.xlabel(\"Latitude\")\n",
    "plt.ylabel(\"Maximum Temperature\")\n",
    "plt.title(\"Southern Hemisphere Latitude VS Temp 7/16/20\")\n",
    "print(f\"The r-squared is: {rvalue**2}\")\n",
    "plt.savefig(\"Images/Latitude_vs_Maximum_Temp_LinRegress_South.png\")\n",
    "plt.show()"
   ]
  },
  {
   "cell_type": "code",
   "execution_count": null,
   "metadata": {},
   "outputs": [],
   "source": [
    "# There seems to be a mild linear correlation between latitude and maximum temperature in the southern hemisphere. "
   ]
  },
  {
   "cell_type": "markdown",
   "metadata": {},
   "source": [
    "####  Northern Hemisphere - Humidity (%) vs. Latitude Linear Regression"
   ]
  },
  {
   "cell_type": "code",
   "execution_count": 58,
   "metadata": {},
   "outputs": [],
   "source": [
    "data1 = lin_reg_north[\"Latitude\"]\n",
    "data3 = lin_reg_north[\"Humidity\"]"
   ]
  },
  {
   "cell_type": "code",
   "execution_count": 59,
   "metadata": {},
   "outputs": [
    {
     "data": {
      "image/png": "[encoded data removed]",
      "text/plain": [
       "<Figure size 432x288 with 1 Axes>"
      ]
     },
     "metadata": {
      "needs_background": "light"
     },
     "output_type": "display_data"
    }
   ],
   "source": [
    "plt.scatter(data1, data3)\n",
    "plt.show()"
   ]
  },
  {
   "cell_type": "code",
   "execution_count": 60,
   "metadata": {},
   "outputs": [
    {
     "name": "stdout",
     "output_type": "stream",
     "text": [
      "Covariance: [[406.43735652 -28.64081769]\n",
      " [-28.64081769 390.18259391]]\n"
     ]
    }
   ],
   "source": [
    "covariance = cov(data1, data3)\n",
    "print('Covariance:', covariance)"
   ]
  },
  {
   "cell_type": "code",
   "execution_count": 61,
   "metadata": {},
   "outputs": [
    {
     "name": "stdout",
     "output_type": "stream",
     "text": [
      "Pearsons correlation: -0.072\n"
     ]
    }
   ],
   "source": [
    "corr, _ = pearsonr(data1, data3)\n",
    "print('Pearsons correlation: %.3f' % corr)"
   ]
  },
  {
   "cell_type": "code",
   "execution_count": 62,
   "metadata": {},
   "outputs": [
    {
     "name": "stdout",
     "output_type": "stream",
     "text": [
      "Spearmans correlation: -0.078\n"
     ]
    }
   ],
   "source": [
    "corr, _ = spearmanr(data1, data3)\n",
    "print('Spearmans correlation: %.3f' % corr)"
   ]
  },
  {
   "cell_type": "code",
   "execution_count": 117,
   "metadata": {},
   "outputs": [
    {
     "name": "stdout",
     "output_type": "stream",
     "text": [
      "The r-squared is: 0.005172605011170022\n"
     ]
    },
    {
     "data": {
      "image/png": "[encoded data removed]",
      "text/plain": [
       "<Figure size 432x288 with 1 Axes>"
      ]
     },
     "metadata": {
      "needs_background": "light"
     },
     "output_type": "display_data"
    }
   ],
   "source": [
    "x_values = lin_reg_north[\"Latitude\"]\n",
    "y_values = lin_reg_north[\"Humidity\"]\n",
    "(slope, intercept, rvalue, pvalue, stderr) = linregress(x_values, y_values)\n",
    "regress_values = x_values * slope + intercept\n",
    "line_eq = \"y = \" + str(round(slope,2)) + \"x + \" + str(round(intercept,2))\n",
    "plt.scatter(x_values,y_values)\n",
    "plt.plot(x_values,regress_values,\"r-\")\n",
    "plt.annotate(line_eq,(6,0),fontsize=15,color=\"red\")\n",
    "plt.xlabel(\"Latitude\")\n",
    "plt.ylabel(\"Humidity\")\n",
    "plt.title(\"Northern Hemisphere Latitude VS Humidity 7/16/20\")\n",
    "print(f\"The r-squared is: {rvalue**2}\")\n",
    "plt.savefig(\"Images/Latitude_vs_Humidity_LinRegress_North.png\")\n",
    "plt.show()"
   ]
  },
  {
   "cell_type": "code",
   "execution_count": null,
   "metadata": {},
   "outputs": [],
   "source": [
    "# There seems to be a very weak linear correlation between latitude and humidity in the northern hemisphere. A correlation coefficent this low is stastically irrellevant. "
   ]
  },
  {
   "cell_type": "markdown",
   "metadata": {},
   "source": [
    "####  Southern Hemisphere - Humidity (%) vs. Latitude Linear Regression"
   ]
  },
  {
   "cell_type": "code",
   "execution_count": 64,
   "metadata": {},
   "outputs": [],
   "source": [
    "data1 = lin_reg_south[\"Latitude\"]\n",
    "data3 = lin_reg_south[\"Humidity\"]"
   ]
  },
  {
   "cell_type": "code",
   "execution_count": 65,
   "metadata": {},
   "outputs": [
    {
     "data": {
      "image/png": "[encoded data removed]",
      "text/plain": [
       "<Figure size 432x288 with 1 Axes>"
      ]
     },
     "metadata": {
      "needs_background": "light"
     },
     "output_type": "display_data"
    }
   ],
   "source": [
    "plt.scatter(data1, data3)\n",
    "plt.show()"
   ]
  },
  {
   "cell_type": "code",
   "execution_count": 66,
   "metadata": {},
   "outputs": [
    {
     "name": "stdout",
     "output_type": "stream",
     "text": [
      "Covariance: [[189.88541932  -8.60965694]\n",
      " [ -8.60965694 344.77366381]]\n"
     ]
    }
   ],
   "source": [
    "covariance = cov(data1, data3)\n",
    "print('Covariance:', covariance)"
   ]
  },
  {
   "cell_type": "code",
   "execution_count": 67,
   "metadata": {},
   "outputs": [
    {
     "name": "stdout",
     "output_type": "stream",
     "text": [
      "Pearsons correlation: -0.034\n"
     ]
    }
   ],
   "source": [
    "corr, _ = pearsonr(data1, data3)\n",
    "print('Pearsons correlation: %.3f' % corr)"
   ]
  },
  {
   "cell_type": "code",
   "execution_count": 68,
   "metadata": {},
   "outputs": [
    {
     "name": "stdout",
     "output_type": "stream",
     "text": [
      "Spearmans correlation: -0.116\n"
     ]
    }
   ],
   "source": [
    "corr, _ = spearmanr(data1, data3)\n",
    "print('Spearmans correlation: %.3f' % corr)"
   ]
  },
  {
   "cell_type": "code",
   "execution_count": 118,
   "metadata": {},
   "outputs": [
    {
     "name": "stdout",
     "output_type": "stream",
     "text": [
      "The r-squared is: 0.0011322595492794373\n"
     ]
    },
    {
     "data": {
      "image/png": "[encoded data removed]",
      "text/plain": [
       "<Figure size 432x288 with 1 Axes>"
      ]
     },
     "metadata": {
      "needs_background": "light"
     },
     "output_type": "display_data"
    }
   ],
   "source": [
    "x_values = lin_reg_south[\"Latitude\"]\n",
    "y_values = lin_reg_south[\"Humidity\"]\n",
    "(slope, intercept, rvalue, pvalue, stderr) = linregress(x_values, y_values)\n",
    "regress_values = x_values * slope + intercept\n",
    "line_eq = \"y = \" + str(round(slope,2)) + \"x + \" + str(round(intercept,2))\n",
    "plt.scatter(x_values,y_values)\n",
    "plt.plot(x_values,regress_values,\"r-\")\n",
    "plt.annotate(line_eq,(6,0),fontsize=15,color=\"red\")\n",
    "plt.xlabel(\"Latitude\")\n",
    "plt.ylabel(\"Humidity\")\n",
    "plt.title(\"Southern Hemisphere Latitude VS Humidity 7/16/20\")\n",
    "print(f\"The r-squared is: {rvalue**2}\")\n",
    "plt.savefig(\"Images/Latitude_vs_Humidity_LinRegress_South.png\")\n",
    "plt.show()"
   ]
  },
  {
   "cell_type": "code",
   "execution_count": null,
   "metadata": {},
   "outputs": [],
   "source": [
    "# There seems to be a very weak linear correlation between latitude and humidity in the southern hemisphere. A correlation coefficent this low is stastically irrellevant. "
   ]
  },
  {
   "cell_type": "markdown",
   "metadata": {},
   "source": [
    "####  Northern Hemisphere - Cloudiness (%) vs. Latitude Linear Regression"
   ]
  },
  {
   "cell_type": "code",
   "execution_count": 70,
   "metadata": {},
   "outputs": [],
   "source": [
    "data1 = lin_reg_north[\"Latitude\"]\n",
    "data4 = lin_reg_north[\"Cloud Cover\"]"
   ]
  },
  {
   "cell_type": "code",
   "execution_count": 71,
   "metadata": {},
   "outputs": [
    {
     "data": {
      "image/png": "[encoded data removed]",
      "text/plain": [
       "<Figure size 432x288 with 1 Axes>"
      ]
     },
     "metadata": {
      "needs_background": "light"
     },
     "output_type": "display_data"
    }
   ],
   "source": [
    "plt.scatter(data1, data4)\n",
    "plt.show()"
   ]
  },
  {
   "cell_type": "code",
   "execution_count": 72,
   "metadata": {},
   "outputs": [
    {
     "name": "stdout",
     "output_type": "stream",
     "text": [
      "Covariance: [[ 406.43735652  -33.7005292 ]\n",
      " [ -33.7005292  1649.85136499]]\n"
     ]
    }
   ],
   "source": [
    "covariance = cov(data1, data4)\n",
    "print('Covariance:', covariance)"
   ]
  },
  {
   "cell_type": "code",
   "execution_count": 73,
   "metadata": {},
   "outputs": [
    {
     "name": "stdout",
     "output_type": "stream",
     "text": [
      "Pearsons correlation: -0.041\n"
     ]
    }
   ],
   "source": [
    "corr, _ = pearsonr(data1, data4)\n",
    "print('Pearsons correlation: %.3f' % corr)"
   ]
  },
  {
   "cell_type": "code",
   "execution_count": 74,
   "metadata": {},
   "outputs": [
    {
     "name": "stdout",
     "output_type": "stream",
     "text": [
      "Spearmans correlation: -0.012\n"
     ]
    }
   ],
   "source": [
    "corr, _ = spearmanr(data1, data4)\n",
    "print('Spearmans correlation: %.3f' % corr)"
   ]
  },
  {
   "cell_type": "code",
   "execution_count": 119,
   "metadata": {},
   "outputs": [
    {
     "name": "stdout",
     "output_type": "stream",
     "text": [
      "The r-squared is: 0.001693694210252196\n"
     ]
    },
    {
     "data": {
      "image/png": "[encoded data removed]",
      "text/plain": [
       "<Figure size 432x288 with 1 Axes>"
      ]
     },
     "metadata": {
      "needs_background": "light"
     },
     "output_type": "display_data"
    }
   ],
   "source": [
    "x_values = lin_reg_north[\"Latitude\"]\n",
    "y_values = lin_reg_north[\"Cloud Cover\"]\n",
    "(slope, intercept, rvalue, pvalue, stderr) = linregress(x_values, y_values)\n",
    "regress_values = x_values * slope + intercept\n",
    "line_eq = \"y = \" + str(round(slope,2)) + \"x + \" + str(round(intercept,2))\n",
    "plt.scatter(x_values,y_values)\n",
    "plt.plot(x_values,regress_values,\"r-\")\n",
    "plt.annotate(line_eq,(6,0),fontsize=15,color=\"red\")\n",
    "plt.xlabel(\"Latitude\")\n",
    "plt.ylabel(\"Cloud Cover (%)\")\n",
    "plt.title(\"Northern Hemisphere Latitude VS Cloud Cover 7/16/20\")\n",
    "print(f\"The r-squared is: {rvalue**2}\")\n",
    "plt.savefig(\"Images/Latitude_vs_Cloud_Cover_LinRegress_North.png\")\n",
    "plt.show()"
   ]
  },
  {
   "cell_type": "code",
   "execution_count": null,
   "metadata": {},
   "outputs": [],
   "source": [
    "# There seems to be a very weak linear correlation between latitude and cloud cover in the northern hemisphere. A correlation coefficent this low is stastically irrellevant. "
   ]
  },
  {
   "cell_type": "markdown",
   "metadata": {},
   "source": [
    "####  Southern Hemisphere - Cloudiness (%) vs. Latitude Linear Regression"
   ]
  },
  {
   "cell_type": "code",
   "execution_count": 76,
   "metadata": {},
   "outputs": [],
   "source": [
    "data1 = lin_reg_south[\"Latitude\"]\n",
    "data4 = lin_reg_south[\"Cloud Cover\"]"
   ]
  },
  {
   "cell_type": "code",
   "execution_count": 77,
   "metadata": {},
   "outputs": [
    {
     "data": {
      "image/png": "[encoded data removed]",
      "text/plain": [
       "<Figure size 432x288 with 1 Axes>"
      ]
     },
     "metadata": {
      "needs_background": "light"
     },
     "output_type": "display_data"
    }
   ],
   "source": [
    "plt.scatter(data1, data4)\n",
    "plt.show()"
   ]
  },
  {
   "cell_type": "code",
   "execution_count": 78,
   "metadata": {},
   "outputs": [
    {
     "name": "stdout",
     "output_type": "stream",
     "text": [
      "Covariance: [[ 189.88541932   39.3473521 ]\n",
      " [  39.3473521  1562.91010472]]\n"
     ]
    }
   ],
   "source": [
    "covariance = cov(data1, data4)\n",
    "print('Covariance:', covariance)"
   ]
  },
  {
   "cell_type": "code",
   "execution_count": 79,
   "metadata": {},
   "outputs": [
    {
     "name": "stdout",
     "output_type": "stream",
     "text": [
      "Pearsons correlation: 0.072\n"
     ]
    }
   ],
   "source": [
    "corr, _ = pearsonr(data1, data4)\n",
    "print('Pearsons correlation: %.3f' % corr)"
   ]
  },
  {
   "cell_type": "code",
   "execution_count": 80,
   "metadata": {},
   "outputs": [
    {
     "name": "stdout",
     "output_type": "stream",
     "text": [
      "Spearmans correlation: 0.136\n"
     ]
    }
   ],
   "source": [
    "corr, _ = spearmanr(data1, data4)\n",
    "print('Spearmans correlation: %.3f' % corr)"
   ]
  },
  {
   "cell_type": "code",
   "execution_count": 120,
   "metadata": {},
   "outputs": [
    {
     "name": "stdout",
     "output_type": "stream",
     "text": [
      "The r-squared is: 0.005216814643294339\n"
     ]
    },
    {
     "data": {
      "image/png": "[encoded data removed]",
      "text/plain": [
       "<Figure size 432x288 with 1 Axes>"
      ]
     },
     "metadata": {
      "needs_background": "light"
     },
     "output_type": "display_data"
    }
   ],
   "source": [
    "x_values = lin_reg_south[\"Latitude\"]\n",
    "y_values = lin_reg_south[\"Cloud Cover\"]\n",
    "(slope, intercept, rvalue, pvalue, stderr) = linregress(x_values, y_values)\n",
    "regress_values = x_values * slope + intercept\n",
    "line_eq = \"y = \" + str(round(slope,2)) + \"x + \" + str(round(intercept,2))\n",
    "plt.scatter(x_values,y_values)\n",
    "plt.plot(x_values,regress_values,\"r-\")\n",
    "plt.annotate(line_eq,(6,0),fontsize=15,color=\"red\")\n",
    "plt.xlabel(\"Latitude\")\n",
    "plt.ylabel(\"Cloud Cover (%)\")\n",
    "plt.title(\"Southern Hemisphere Latitude VS Cloud Cover 7/16/20\")\n",
    "print(f\"The r-squared is: {rvalue**2}\")\n",
    "plt.savefig(\"Images/Latitude_vs_Cloud_Cover_LinRegress_South.png\")\n",
    "plt.show()"
   ]
  },
  {
   "cell_type": "code",
   "execution_count": null,
   "metadata": {},
   "outputs": [],
   "source": [
    "# There seems to be a very weak linear correlation between latitude and cloud cover in the southern hemisphere. A correlation coefficent this low is stastically irrellevant. "
   ]
  },
  {
   "cell_type": "markdown",
   "metadata": {},
   "source": [
    "####  Northern Hemisphere - Wind Speed (mph) vs. Latitude Linear Regression"
   ]
  },
  {
   "cell_type": "code",
   "execution_count": 88,
   "metadata": {},
   "outputs": [],
   "source": [
    "data1 = lin_reg_north[\"Latitude\"]\n",
    "data5 = lin_reg_north[\"Wind Speed (MPH)\"]"
   ]
  },
  {
   "cell_type": "code",
   "execution_count": 89,
   "metadata": {},
   "outputs": [
    {
     "data": {
      "image/png": "[encoded data removed]",
      "text/plain": [
       "<Figure size 432x288 with 1 Axes>"
      ]
     },
     "metadata": {
      "needs_background": "light"
     },
     "output_type": "display_data"
    }
   ],
   "source": [
    "plt.scatter(data1, data5)\n",
    "plt.show()"
   ]
  },
  {
   "cell_type": "code",
   "execution_count": 90,
   "metadata": {},
   "outputs": [
    {
     "name": "stdout",
     "output_type": "stream",
     "text": [
      "Covariance: [[406.43735652   1.74172454]\n",
      " [  1.74172454   5.39072776]]\n"
     ]
    }
   ],
   "source": [
    "covariance = cov(data1, data5)\n",
    "print('Covariance:', covariance)"
   ]
  },
  {
   "cell_type": "code",
   "execution_count": 91,
   "metadata": {},
   "outputs": [
    {
     "name": "stdout",
     "output_type": "stream",
     "text": [
      "Pearsons correlation: 0.037\n"
     ]
    }
   ],
   "source": [
    "corr, _ = pearsonr(data1, data5)\n",
    "print('Pearsons correlation: %.3f' % corr)"
   ]
  },
  {
   "cell_type": "code",
   "execution_count": 92,
   "metadata": {},
   "outputs": [
    {
     "name": "stdout",
     "output_type": "stream",
     "text": [
      "Spearmans correlation: 0.019\n"
     ]
    }
   ],
   "source": [
    "corr, _ = spearmanr(data1, data5)\n",
    "print('Spearmans correlation: %.3f' % corr)"
   ]
  },
  {
   "cell_type": "code",
   "execution_count": 121,
   "metadata": {},
   "outputs": [
    {
     "name": "stdout",
     "output_type": "stream",
     "text": [
      "The r-squared is: 0.001384579588872018\n"
     ]
    },
    {
     "data": {
      "image/png": "[encoded data removed]",
      "text/plain": [
       "<Figure size 432x288 with 1 Axes>"
      ]
     },
     "metadata": {
      "needs_background": "light"
     },
     "output_type": "display_data"
    }
   ],
   "source": [
    "x_values = lin_reg_north[\"Latitude\"]\n",
    "y_values = lin_reg_north[\"Wind Speed (MPH)\"]\n",
    "(slope, intercept, rvalue, pvalue, stderr) = linregress(x_values, y_values)\n",
    "regress_values = x_values * slope + intercept\n",
    "line_eq = \"y = \" + str(round(slope,2)) + \"x + \" + str(round(intercept,2))\n",
    "plt.scatter(x_values,y_values)\n",
    "plt.plot(x_values,regress_values,\"r-\")\n",
    "plt.annotate(line_eq,(6,0),fontsize=15,color=\"red\")\n",
    "plt.xlabel(\"Latitude\")\n",
    "plt.ylabel(\"Wind Speed (MPH)\")\n",
    "plt.title(\"Northern Hemisphere Latitude VS Wind Speed 7/16/20\")\n",
    "print(f\"The r-squared is: {rvalue**2}\")\n",
    "plt.savefig(\"Images/Latitude_vs_Wind_Speed_LinRegress_North.png\")\n",
    "plt.show()"
   ]
  },
  {
   "cell_type": "code",
   "execution_count": null,
   "metadata": {},
   "outputs": [],
   "source": [
    "# There seems to be a very weak linear correlation between latitude and wind speed in the northern hemisphere. A correlation coefficent this low is stastically irrellevant. "
   ]
  },
  {
   "cell_type": "markdown",
   "metadata": {},
   "source": [
    "####  Southern Hemisphere - Wind Speed (mph) vs. Latitude Linear Regression"
   ]
  },
  {
   "cell_type": "code",
   "execution_count": 94,
   "metadata": {},
   "outputs": [],
   "source": [
    "data1 = lin_reg_south[\"Latitude\"]\n",
    "data5 = lin_reg_south[\"Wind Speed (MPH)\"]"
   ]
  },
  {
   "cell_type": "code",
   "execution_count": 95,
   "metadata": {},
   "outputs": [
    {
     "data": {
      "image/png": "[encoded data removed]",
      "text/plain": [
       "<Figure size 432x288 with 1 Axes>"
      ]
     },
     "metadata": {
      "needs_background": "light"
     },
     "output_type": "display_data"
    }
   ],
   "source": [
    "plt.scatter(data1, data5)\n",
    "plt.show()"
   ]
  },
  {
   "cell_type": "code",
   "execution_count": 96,
   "metadata": {},
   "outputs": [
    {
     "name": "stdout",
     "output_type": "stream",
     "text": [
      "Covariance: [[189.88541932  -3.6280064 ]\n",
      " [ -3.6280064    5.91213797]]\n"
     ]
    }
   ],
   "source": [
    "covariance = cov(data1, data5)\n",
    "print('Covariance:', covariance)"
   ]
  },
  {
   "cell_type": "code",
   "execution_count": 97,
   "metadata": {},
   "outputs": [
    {
     "name": "stdout",
     "output_type": "stream",
     "text": [
      "Pearsons correlation: -0.108\n"
     ]
    }
   ],
   "source": [
    "corr, _ = pearsonr(data1, data5)\n",
    "print('Pearsons correlation: %.3f' % corr)"
   ]
  },
  {
   "cell_type": "code",
   "execution_count": 98,
   "metadata": {},
   "outputs": [
    {
     "name": "stdout",
     "output_type": "stream",
     "text": [
      "Spearmans correlation: -0.089\n"
     ]
    }
   ],
   "source": [
    "corr, _ = spearmanr(data1, data5)\n",
    "print('Spearmans correlation: %.3f' % corr)"
   ]
  },
  {
   "cell_type": "code",
   "execution_count": 122,
   "metadata": {},
   "outputs": [
    {
     "name": "stdout",
     "output_type": "stream",
     "text": [
      "The r-squared is: 0.011724650649124549\n"
     ]
    },
    {
     "data": {
      "image/png": "[encoded data removed]",
      "text/plain": [
       "<Figure size 432x288 with 1 Axes>"
      ]
     },
     "metadata": {
      "needs_background": "light"
     },
     "output_type": "display_data"
    }
   ],
   "source": [
    "x_values = lin_reg_south[\"Latitude\"]\n",
    "y_values = lin_reg_south[\"Wind Speed (MPH)\"]\n",
    "(slope, intercept, rvalue, pvalue, stderr) = linregress(x_values, y_values)\n",
    "regress_values = x_values * slope + intercept\n",
    "line_eq = \"y = \" + str(round(slope,2)) + \"x + \" + str(round(intercept,2))\n",
    "plt.scatter(x_values,y_values)\n",
    "plt.plot(x_values,regress_values,\"r-\")\n",
    "plt.annotate(line_eq,(6,0),fontsize=15,color=\"red\")\n",
    "plt.xlabel(\"Latitude\")\n",
    "plt.ylabel(\"Wind Speed (MPH)\")\n",
    "plt.title(\"Southern Hemisphere Latitude VS Wind Speed 7/16/20\")\n",
    "print(f\"The r-squared is: {rvalue**2}\")\n",
    "plt.savefig(\"Images/Latitude_vs_Wind_Speed_LinRegress_South.png\")\n",
    "plt.show()"
   ]
  },
  {
   "cell_type": "code",
   "execution_count": null,
   "metadata": {},
   "outputs": [],
   "source": [
    "# There seems to be a very weak linear correlation between latitude and wind speed in the southern hemisphere. A correlation coefficent this low is stastically irrellevant. "
   ]
  }
 ],
 "metadata": {
  "anaconda-cloud": {},
  "kernel_info": {
   "name": "python3"
  },
  "kernelspec": {
   "display_name": "Python 3",
   "language": "python",
   "name": "python3"
  },
  "language_info": {
   "codemirror_mode": {
    "name": "ipython",
    "version": 3
   },
   "file_extension": ".py",
   "mimetype": "text/x-python",
   "name": "python",
   "nbconvert_exporter": "python",
   "pygments_lexer": "ipython3",
   "version": "3.8.3"
  },
  "latex_envs": {
   "LaTeX_envs_menu_present": true,
   "autoclose": false,
   "autocomplete": true,
   "bibliofile": "biblio.bib",
   "cite_by": "apalike",
   "current_citInitial": 1,
   "eqLabelWithNumbers": true,
   "eqNumInitial": 1,
   "hotkeys": {
    "equation": "Ctrl-E",
    "itemize": "Ctrl-I"
   },
   "labels_anchors": false,
   "latex_user_defs": false,
   "report_style_numbering": false,
   "user_envs_cfg": false
  },
  "nteract": {
   "version": "0.12.3"
  }
 },
 "nbformat": 4,
 "nbformat_minor": 2
}
